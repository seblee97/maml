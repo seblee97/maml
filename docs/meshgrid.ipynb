{
 "cells": [
  {
   "cell_type": "code",
   "execution_count": 1,
   "metadata": {},
   "outputs": [],
   "source": [
    "import numpy as np"
   ]
  },
  {
   "cell_type": "code",
   "execution_count": 2,
   "metadata": {},
   "outputs": [],
   "source": [
    "xrange = [0, np.pi]\n",
    "yrange = [0.1, 5]\n",
    "\n",
    "box_size_x = np.pi / 8\n",
    "box_size_y = 0.2"
   ]
  },
  {
   "cell_type": "code",
   "execution_count": 22,
   "metadata": {},
   "outputs": [],
   "source": [
    "pranges = []\n",
    "for i in range(3):\n",
    "    pranges.append(int((xrange[1] - xrange[0]) / box_size_x))"
   ]
  },
  {
   "cell_type": "code",
   "execution_count": 137,
   "metadata": {},
   "outputs": [],
   "source": [
    "pranges\n",
    "pg = np.zeros(tuple(pranges))"
   ]
  },
  {
   "cell_type": "code",
   "execution_count": 29,
   "metadata": {},
   "outputs": [],
   "source": [
    "pg[0][0][3] = 1"
   ]
  },
  {
   "cell_type": "code",
   "execution_count": 70,
   "metadata": {},
   "outputs": [
    {
     "data": {
      "text/plain": [
       "0.003806580817976579"
      ]
     },
     "execution_count": 70,
     "metadata": {},
     "output_type": "execute_result"
    }
   ],
   "source": [
    "random.random()"
   ]
  },
  {
   "cell_type": "code",
   "execution_count": 49,
   "metadata": {},
   "outputs": [],
   "source": [
    "import random"
   ]
  },
  {
   "cell_type": "code",
   "execution_count": 89,
   "metadata": {},
   "outputs": [],
   "source": [
    "key = (2,2)"
   ]
  },
  {
   "cell_type": "code",
   "execution_count": 90,
   "metadata": {},
   "outputs": [
    {
     "data": {
      "text/plain": [
       "0.20497575672678092"
      ]
     },
     "execution_count": 90,
     "metadata": {},
     "output_type": "execute_result"
    }
   ],
   "source": [
    "np.random.normal(5, 5, (3, 3))[key]"
   ]
  },
  {
   "cell_type": "code",
   "execution_count": 57,
   "metadata": {},
   "outputs": [
    {
     "data": {
      "text/plain": [
       "(8, 8, 8)"
      ]
     },
     "execution_count": 57,
     "metadata": {},
     "output_type": "execute_result"
    }
   ],
   "source": [
    "pg.shape"
   ]
  },
  {
   "cell_type": "code",
   "execution_count": 91,
   "metadata": {},
   "outputs": [
    {
     "data": {
      "text/plain": [
       "[2, 0, 4]"
      ]
     },
     "execution_count": 91,
     "metadata": {},
     "output_type": "execute_result"
    }
   ],
   "source": [
    "[np.random.randint(D) for D in pg.shape]"
   ]
  },
  {
   "cell_type": "code",
   "execution_count": null,
   "metadata": {},
   "outputs": [],
   "source": []
  },
  {
   "cell_type": "code",
   "execution_count": 13,
   "metadata": {},
   "outputs": [],
   "source": [
    "X, Y = np.meshgrid(\n",
    "    np.arange(xrange[0], xrange[1], box_size_x),\n",
    "    np.arange(yrange[0], yrange[1], box_size_y)\n",
    ")"
   ]
  },
  {
   "cell_type": "code",
   "execution_count": 11,
   "metadata": {},
   "outputs": [
    {
     "data": {
      "text/plain": [
       "array([[0.        , 0.39269908, 0.78539816, 1.17809725, 1.57079633,\n",
       "        1.96349541, 2.35619449, 2.74889357],\n",
       "       [0.        , 0.39269908, 0.78539816, 1.17809725, 1.57079633,\n",
       "        1.96349541, 2.35619449, 2.74889357],\n",
       "       [0.        , 0.39269908, 0.78539816, 1.17809725, 1.57079633,\n",
       "        1.96349541, 2.35619449, 2.74889357],\n",
       "       [0.        , 0.39269908, 0.78539816, 1.17809725, 1.57079633,\n",
       "        1.96349541, 2.35619449, 2.74889357],\n",
       "       [0.        , 0.39269908, 0.78539816, 1.17809725, 1.57079633,\n",
       "        1.96349541, 2.35619449, 2.74889357],\n",
       "       [0.        , 0.39269908, 0.78539816, 1.17809725, 1.57079633,\n",
       "        1.96349541, 2.35619449, 2.74889357],\n",
       "       [0.        , 0.39269908, 0.78539816, 1.17809725, 1.57079633,\n",
       "        1.96349541, 2.35619449, 2.74889357],\n",
       "       [0.        , 0.39269908, 0.78539816, 1.17809725, 1.57079633,\n",
       "        1.96349541, 2.35619449, 2.74889357],\n",
       "       [0.        , 0.39269908, 0.78539816, 1.17809725, 1.57079633,\n",
       "        1.96349541, 2.35619449, 2.74889357],\n",
       "       [0.        , 0.39269908, 0.78539816, 1.17809725, 1.57079633,\n",
       "        1.96349541, 2.35619449, 2.74889357],\n",
       "       [0.        , 0.39269908, 0.78539816, 1.17809725, 1.57079633,\n",
       "        1.96349541, 2.35619449, 2.74889357],\n",
       "       [0.        , 0.39269908, 0.78539816, 1.17809725, 1.57079633,\n",
       "        1.96349541, 2.35619449, 2.74889357],\n",
       "       [0.        , 0.39269908, 0.78539816, 1.17809725, 1.57079633,\n",
       "        1.96349541, 2.35619449, 2.74889357],\n",
       "       [0.        , 0.39269908, 0.78539816, 1.17809725, 1.57079633,\n",
       "        1.96349541, 2.35619449, 2.74889357],\n",
       "       [0.        , 0.39269908, 0.78539816, 1.17809725, 1.57079633,\n",
       "        1.96349541, 2.35619449, 2.74889357],\n",
       "       [0.        , 0.39269908, 0.78539816, 1.17809725, 1.57079633,\n",
       "        1.96349541, 2.35619449, 2.74889357],\n",
       "       [0.        , 0.39269908, 0.78539816, 1.17809725, 1.57079633,\n",
       "        1.96349541, 2.35619449, 2.74889357],\n",
       "       [0.        , 0.39269908, 0.78539816, 1.17809725, 1.57079633,\n",
       "        1.96349541, 2.35619449, 2.74889357],\n",
       "       [0.        , 0.39269908, 0.78539816, 1.17809725, 1.57079633,\n",
       "        1.96349541, 2.35619449, 2.74889357],\n",
       "       [0.        , 0.39269908, 0.78539816, 1.17809725, 1.57079633,\n",
       "        1.96349541, 2.35619449, 2.74889357],\n",
       "       [0.        , 0.39269908, 0.78539816, 1.17809725, 1.57079633,\n",
       "        1.96349541, 2.35619449, 2.74889357],\n",
       "       [0.        , 0.39269908, 0.78539816, 1.17809725, 1.57079633,\n",
       "        1.96349541, 2.35619449, 2.74889357],\n",
       "       [0.        , 0.39269908, 0.78539816, 1.17809725, 1.57079633,\n",
       "        1.96349541, 2.35619449, 2.74889357],\n",
       "       [0.        , 0.39269908, 0.78539816, 1.17809725, 1.57079633,\n",
       "        1.96349541, 2.35619449, 2.74889357],\n",
       "       [0.        , 0.39269908, 0.78539816, 1.17809725, 1.57079633,\n",
       "        1.96349541, 2.35619449, 2.74889357]])"
      ]
     },
     "execution_count": 11,
     "metadata": {},
     "output_type": "execute_result"
    }
   ],
   "source": [
    "X"
   ]
  },
  {
   "cell_type": "code",
   "execution_count": 5,
   "metadata": {},
   "outputs": [
    {
     "data": {
      "text/plain": [
       "array([[0.1, 0.1, 0.1, 0.1, 0.1, 0.1, 0.1, 0.1],\n",
       "       [0.3, 0.3, 0.3, 0.3, 0.3, 0.3, 0.3, 0.3],\n",
       "       [0.5, 0.5, 0.5, 0.5, 0.5, 0.5, 0.5, 0.5],\n",
       "       [0.7, 0.7, 0.7, 0.7, 0.7, 0.7, 0.7, 0.7],\n",
       "       [0.9, 0.9, 0.9, 0.9, 0.9, 0.9, 0.9, 0.9],\n",
       "       [1.1, 1.1, 1.1, 1.1, 1.1, 1.1, 1.1, 1.1],\n",
       "       [1.3, 1.3, 1.3, 1.3, 1.3, 1.3, 1.3, 1.3],\n",
       "       [1.5, 1.5, 1.5, 1.5, 1.5, 1.5, 1.5, 1.5],\n",
       "       [1.7, 1.7, 1.7, 1.7, 1.7, 1.7, 1.7, 1.7],\n",
       "       [1.9, 1.9, 1.9, 1.9, 1.9, 1.9, 1.9, 1.9],\n",
       "       [2.1, 2.1, 2.1, 2.1, 2.1, 2.1, 2.1, 2.1],\n",
       "       [2.3, 2.3, 2.3, 2.3, 2.3, 2.3, 2.3, 2.3],\n",
       "       [2.5, 2.5, 2.5, 2.5, 2.5, 2.5, 2.5, 2.5],\n",
       "       [2.7, 2.7, 2.7, 2.7, 2.7, 2.7, 2.7, 2.7],\n",
       "       [2.9, 2.9, 2.9, 2.9, 2.9, 2.9, 2.9, 2.9],\n",
       "       [3.1, 3.1, 3.1, 3.1, 3.1, 3.1, 3.1, 3.1],\n",
       "       [3.3, 3.3, 3.3, 3.3, 3.3, 3.3, 3.3, 3.3],\n",
       "       [3.5, 3.5, 3.5, 3.5, 3.5, 3.5, 3.5, 3.5],\n",
       "       [3.7, 3.7, 3.7, 3.7, 3.7, 3.7, 3.7, 3.7],\n",
       "       [3.9, 3.9, 3.9, 3.9, 3.9, 3.9, 3.9, 3.9],\n",
       "       [4.1, 4.1, 4.1, 4.1, 4.1, 4.1, 4.1, 4.1],\n",
       "       [4.3, 4.3, 4.3, 4.3, 4.3, 4.3, 4.3, 4.3],\n",
       "       [4.5, 4.5, 4.5, 4.5, 4.5, 4.5, 4.5, 4.5],\n",
       "       [4.7, 4.7, 4.7, 4.7, 4.7, 4.7, 4.7, 4.7],\n",
       "       [4.9, 4.9, 4.9, 4.9, 4.9, 4.9, 4.9, 4.9]])"
      ]
     },
     "execution_count": 5,
     "metadata": {},
     "output_type": "execute_result"
    }
   ],
   "source": [
    "Y"
   ]
  },
  {
   "cell_type": "code",
   "execution_count": 6,
   "metadata": {},
   "outputs": [],
   "source": [
    "def f(x, y):\n",
    "    return x + y"
   ]
  },
  {
   "cell_type": "code",
   "execution_count": 7,
   "metadata": {},
   "outputs": [],
   "source": [
    "z = f(X, Y)"
   ]
  },
  {
   "cell_type": "code",
   "execution_count": 140,
   "metadata": {},
   "outputs": [],
   "source": [
    "z = np.zeros((40, 40))"
   ]
  },
  {
   "cell_type": "code",
   "execution_count": 141,
   "metadata": {},
   "outputs": [
    {
     "data": {
      "text/plain": [
       "<matplotlib.image.AxesImage at 0x11964e470>"
      ]
     },
     "execution_count": 141,
     "metadata": {},
     "output_type": "execute_result"
    },
    {
     "data": {
      "image/png": "[encoded data removed]",
      "text/plain": [
       "<Figure size 432x288 with 1 Axes>"
      ]
     },
     "metadata": {
      "needs_background": "light"
     },
     "output_type": "display_data"
    }
   ],
   "source": [
    "fig = plt.figure()\n",
    "plt.imshow(z)"
   ]
  },
  {
   "cell_type": "code",
   "execution_count": 142,
   "metadata": {},
   "outputs": [],
   "source": [
    "z[0][0] = 1"
   ]
  },
  {
   "cell_type": "code",
   "execution_count": 143,
   "metadata": {},
   "outputs": [
    {
     "data": {
      "text/plain": [
       "<matplotlib.image.AxesImage at 0x1194fd358>"
      ]
     },
     "execution_count": 143,
     "metadata": {},
     "output_type": "execute_result"
    },
    {
     "data": {
      "image/png": "[encoded data removed]",
      "text/plain": [
       "<Figure size 432x288 with 1 Axes>"
      ]
     },
     "metadata": {
      "needs_background": "light"
     },
     "output_type": "display_data"
    }
   ],
   "source": [
    "plt.imshow(z)"
   ]
  },
  {
   "cell_type": "code",
   "execution_count": 27,
   "metadata": {},
   "outputs": [
    {
     "data": {
      "text/plain": [
       "200"
      ]
     },
     "execution_count": 27,
     "metadata": {},
     "output_type": "execute_result"
    }
   ],
   "source": [
    "len(y_spec[0]) * len(x_spec)"
   ]
  },
  {
   "cell_type": "code",
   "execution_count": 24,
   "metadata": {},
   "outputs": [
    {
     "data": {
      "text/plain": [
       "40000"
      ]
     },
     "execution_count": 24,
     "metadata": {},
     "output_type": "execute_result"
    }
   ],
   "source": [
    "y_spec.shape[0] * y_spec.shape[1] * x_spec.shape[0] * x_spec.shape[1]"
   ]
  },
  {
   "cell_type": "code",
   "execution_count": 25,
   "metadata": {},
   "outputs": [
    {
     "data": {
      "text/plain": [
       "(200, 2)"
      ]
     },
     "execution_count": 25,
     "metadata": {},
     "output_type": "execute_result"
    }
   ],
   "source": [
    "parameter_space_tuples.shape"
   ]
  },
  {
   "cell_type": "code",
   "execution_count": 92,
   "metadata": {},
   "outputs": [],
   "source": [
    "z = np.zeros((5,10))"
   ]
  },
  {
   "cell_type": "code",
   "execution_count": 96,
   "metadata": {},
   "outputs": [],
   "source": [
    "import matplotlib.pyplot as plt"
   ]
  },
  {
   "cell_type": "code",
   "execution_count": 127,
   "metadata": {},
   "outputs": [
    {
     "name": "stderr",
     "output_type": "stream",
     "text": [
      "/Users/sebastianlee/Dropbox/Documents/Work/Hack/Environments/meta/lib/python3.7/site-packages/ipykernel_launcher.py:5: UserWarning: Matplotlib is currently using module://ipykernel.pylab.backend_inline, which is a non-GUI backend, so cannot show the figure.\n",
      "  \"\"\"\n"
     ]
    },
    {
     "data": {
      "image/png": "[encoded data removed]",
      "text/plain": [
       "<Figure size 432x288 with 1 Axes>"
      ]
     },
     "metadata": {
      "needs_background": "light"
     },
     "output_type": "display_data"
    }
   ],
   "source": [
    "fig = plt.figure()\n",
    "locs, labels = plt.xticks()\n",
    "plt.xticks(locs, [5 * i for i in locs])\n",
    "plt.imshow(z)\n",
    "fig.show()"
   ]
  },
  {
   "cell_type": "code",
   "execution_count": 123,
   "metadata": {},
   "outputs": [
    {
     "data": {
      "text/plain": [
       "array([-2.,  0.,  2.,  4.,  6.,  8., 10.])"
      ]
     },
     "execution_count": 123,
     "metadata": {},
     "output_type": "execute_result"
    }
   ],
   "source": [
    "locs"
   ]
  },
  {
   "cell_type": "code",
   "execution_count": 124,
   "metadata": {},
   "outputs": [
    {
     "data": {
      "text/plain": [
       "array([ True,  True,  True,  True,  True,  True,  True])"
      ]
     },
     "execution_count": 124,
     "metadata": {},
     "output_type": "execute_result"
    }
   ],
   "source": [
    "locs == np.arange(-2.,12.,2.)"
   ]
  },
  {
   "cell_type": "code",
   "execution_count": 107,
   "metadata": {},
   "outputs": [],
   "source": [
    "labels = [5 * i for i in locs]"
   ]
  },
  {
   "cell_type": "code",
   "execution_count": 108,
   "metadata": {},
   "outputs": [
    {
     "data": {
      "text/plain": [
       "[-10.0, 0.0, 10.0, 20.0, 30.0, 40.0, 50.0]"
      ]
     },
     "execution_count": 108,
     "metadata": {},
     "output_type": "execute_result"
    }
   ],
   "source": [
    "labels"
   ]
  },
  {
   "cell_type": "code",
   "execution_count": 109,
   "metadata": {},
   "outputs": [
    {
     "ename": "TypeError",
     "evalue": "object of type 'NoneType' has no len()",
     "output_type": "error",
     "traceback": [
      "\u001b[0;31m---------------------------------------------------------------------------\u001b[0m",
      "\u001b[0;31mTypeError\u001b[0m                                 Traceback (most recent call last)",
      "\u001b[0;32m<ipython-input-109-3366406ebe48>\u001b[0m in \u001b[0;36m<module>\u001b[0;34m\u001b[0m\n\u001b[0;32m----> 1\u001b[0;31m \u001b[0mplt\u001b[0m\u001b[0;34m.\u001b[0m\u001b[0mxticks\u001b[0m\u001b[0;34m(\u001b[0m\u001b[0mlocs\u001b[0m\u001b[0;34m=\u001b[0m\u001b[0mlocs\u001b[0m\u001b[0;34m,\u001b[0m \u001b[0mlabels\u001b[0m\u001b[0;34m=\u001b[0m\u001b[0mlabels\u001b[0m\u001b[0;34m)\u001b[0m\u001b[0;34m\u001b[0m\u001b[0m\n\u001b[0m",
      "\u001b[0;32m~/Dropbox/Documents/Work/Hack/Environments/meta/lib/python3.7/site-packages/matplotlib/pyplot.py\u001b[0m in \u001b[0;36mxticks\u001b[0;34m(ticks, labels, **kwargs)\u001b[0m\n\u001b[1;32m   1535\u001b[0m         \u001b[0mlabels\u001b[0m \u001b[0;34m=\u001b[0m \u001b[0max\u001b[0m\u001b[0;34m.\u001b[0m\u001b[0mget_xticklabels\u001b[0m\u001b[0;34m(\u001b[0m\u001b[0;34m)\u001b[0m\u001b[0;34m\u001b[0m\u001b[0m\n\u001b[1;32m   1536\u001b[0m     \u001b[0;32melse\u001b[0m\u001b[0;34m:\u001b[0m\u001b[0;34m\u001b[0m\u001b[0m\n\u001b[0;32m-> 1537\u001b[0;31m         \u001b[0mlocs\u001b[0m \u001b[0;34m=\u001b[0m \u001b[0max\u001b[0m\u001b[0;34m.\u001b[0m\u001b[0mset_xticks\u001b[0m\u001b[0;34m(\u001b[0m\u001b[0mticks\u001b[0m\u001b[0;34m)\u001b[0m\u001b[0;34m\u001b[0m\u001b[0m\n\u001b[0m\u001b[1;32m   1538\u001b[0m         \u001b[0mlabels\u001b[0m \u001b[0;34m=\u001b[0m \u001b[0max\u001b[0m\u001b[0;34m.\u001b[0m\u001b[0mset_xticklabels\u001b[0m\u001b[0;34m(\u001b[0m\u001b[0mlabels\u001b[0m\u001b[0;34m,\u001b[0m \u001b[0;34m**\u001b[0m\u001b[0mkwargs\u001b[0m\u001b[0;34m)\u001b[0m\u001b[0;34m\u001b[0m\u001b[0m\n\u001b[1;32m   1539\u001b[0m     \u001b[0;32mfor\u001b[0m \u001b[0ml\u001b[0m \u001b[0;32min\u001b[0m \u001b[0mlabels\u001b[0m\u001b[0;34m:\u001b[0m\u001b[0;34m\u001b[0m\u001b[0m\n",
      "\u001b[0;32m~/Dropbox/Documents/Work/Hack/Environments/meta/lib/python3.7/site-packages/matplotlib/axes/_base.py\u001b[0m in \u001b[0;36mset_xticks\u001b[0;34m(self, ticks, minor)\u001b[0m\n\u001b[1;32m   3343\u001b[0m             \u001b[0mDefault\u001b[0m \u001b[0;32mis\u001b[0m\u001b[0;31m \u001b[0m\u001b[0;31m`\u001b[0m\u001b[0;31m`\u001b[0m\u001b[0;32mFalse\u001b[0m\u001b[0;31m`\u001b[0m\u001b[0;31m`\u001b[0m\u001b[0;34m.\u001b[0m\u001b[0;34m\u001b[0m\u001b[0m\n\u001b[1;32m   3344\u001b[0m         \"\"\"\n\u001b[0;32m-> 3345\u001b[0;31m         \u001b[0mret\u001b[0m \u001b[0;34m=\u001b[0m \u001b[0mself\u001b[0m\u001b[0;34m.\u001b[0m\u001b[0mxaxis\u001b[0m\u001b[0;34m.\u001b[0m\u001b[0mset_ticks\u001b[0m\u001b[0;34m(\u001b[0m\u001b[0mticks\u001b[0m\u001b[0;34m,\u001b[0m \u001b[0mminor\u001b[0m\u001b[0;34m=\u001b[0m\u001b[0mminor\u001b[0m\u001b[0;34m)\u001b[0m\u001b[0;34m\u001b[0m\u001b[0m\n\u001b[0m\u001b[1;32m   3346\u001b[0m         \u001b[0mself\u001b[0m\u001b[0;34m.\u001b[0m\u001b[0mstale\u001b[0m \u001b[0;34m=\u001b[0m \u001b[0;32mTrue\u001b[0m\u001b[0;34m\u001b[0m\u001b[0m\n\u001b[1;32m   3347\u001b[0m         \u001b[0;32mreturn\u001b[0m \u001b[0mret\u001b[0m\u001b[0;34m\u001b[0m\u001b[0m\n",
      "\u001b[0;32m~/Dropbox/Documents/Work/Hack/Environments/meta/lib/python3.7/site-packages/matplotlib/axis.py\u001b[0m in \u001b[0;36mset_ticks\u001b[0;34m(self, ticks, minor)\u001b[0m\n\u001b[1;32m   1751\u001b[0m         \u001b[0;31m# XXX if the user changes units, the information will be lost here\u001b[0m\u001b[0;34m\u001b[0m\u001b[0;34m\u001b[0m\u001b[0m\n\u001b[1;32m   1752\u001b[0m         \u001b[0mticks\u001b[0m \u001b[0;34m=\u001b[0m \u001b[0mself\u001b[0m\u001b[0;34m.\u001b[0m\u001b[0mconvert_units\u001b[0m\u001b[0;34m(\u001b[0m\u001b[0mticks\u001b[0m\u001b[0;34m)\u001b[0m\u001b[0;34m\u001b[0m\u001b[0m\n\u001b[0;32m-> 1753\u001b[0;31m         \u001b[0;32mif\u001b[0m \u001b[0mlen\u001b[0m\u001b[0;34m(\u001b[0m\u001b[0mticks\u001b[0m\u001b[0;34m)\u001b[0m \u001b[0;34m>\u001b[0m \u001b[0;36m1\u001b[0m\u001b[0;34m:\u001b[0m\u001b[0;34m\u001b[0m\u001b[0m\n\u001b[0m\u001b[1;32m   1754\u001b[0m             \u001b[0mxleft\u001b[0m\u001b[0;34m,\u001b[0m \u001b[0mxright\u001b[0m \u001b[0;34m=\u001b[0m \u001b[0mself\u001b[0m\u001b[0;34m.\u001b[0m\u001b[0mget_view_interval\u001b[0m\u001b[0;34m(\u001b[0m\u001b[0;34m)\u001b[0m\u001b[0;34m\u001b[0m\u001b[0m\n\u001b[1;32m   1755\u001b[0m             \u001b[0;32mif\u001b[0m \u001b[0mxright\u001b[0m \u001b[0;34m>\u001b[0m \u001b[0mxleft\u001b[0m\u001b[0;34m:\u001b[0m\u001b[0;34m\u001b[0m\u001b[0m\n",
      "\u001b[0;31mTypeError\u001b[0m: object of type 'NoneType' has no len()"
     ]
    },
    {
     "data": {
      "image/png": "[encoded data removed]",
      "text/plain": [
       "<Figure size 432x288 with 1 Axes>"
      ]
     },
     "metadata": {
      "needs_background": "light"
     },
     "output_type": "display_data"
    }
   ],
   "source": [
    "\n",
    "plt.xticks(locs=locs, labels=labels)"
   ]
  },
  {
   "cell_type": "code",
   "execution_count": 128,
   "metadata": {},
   "outputs": [],
   "source": [
    "import random"
   ]
  },
  {
   "cell_type": "code",
   "execution_count": 136,
   "metadata": {},
   "outputs": [
    {
     "data": {
      "text/plain": [
       "3.5851593183297563"
      ]
     },
     "execution_count": 136,
     "metadata": {},
     "output_type": "execute_result"
    }
   ],
   "source": [
    "random.uniform(2,4)"
   ]
  },
  {
   "cell_type": "code",
   "execution_count": 6,
   "metadata": {},
   "outputs": [
    {
     "ename": "SyntaxError",
     "evalue": "invalid syntax (<ipython-input-6-cfde36a53690>, line 1)",
     "output_type": "error",
     "traceback": [
      "\u001b[0;36m  File \u001b[0;32m\"<ipython-input-6-cfde36a53690>\"\u001b[0;36m, line \u001b[0;32m1\u001b[0m\n\u001b[0;31m    import .sinusoid\u001b[0m\n\u001b[0m           ^\u001b[0m\n\u001b[0;31mSyntaxError\u001b[0m\u001b[0;31m:\u001b[0m invalid syntax\n"
     ]
    }
   ],
   "source": [
    "import .sinusoid"
   ]
  },
  {
   "cell_type": "code",
   "execution_count": 8,
   "metadata": {},
   "outputs": [
    {
     "ename": "ModuleNotFoundError",
     "evalue": "No module named 'src'",
     "output_type": "error",
     "traceback": [
      "\u001b[0;31m---------------------------------------------------------------------------\u001b[0m",
      "\u001b[0;31mModuleNotFoundError\u001b[0m                       Traceback (most recent call last)",
      "\u001b[0;32m<ipython-input-8-3e299c5f1f67>\u001b[0m in \u001b[0;36m<module>\u001b[0;34m\u001b[0m\n\u001b[0;32m----> 1\u001b[0;31m \u001b[0;32mimport\u001b[0m \u001b[0msrc\u001b[0m\u001b[0;34m.\u001b[0m\u001b[0msinusoid\u001b[0m\u001b[0;34m\u001b[0m\u001b[0m\n\u001b[0m",
      "\u001b[0;31mModuleNotFoundError\u001b[0m: No module named 'src'"
     ]
    }
   ],
   "source": []
  },
  {
   "cell_type": "code",
   "execution_count": 1,
   "metadata": {},
   "outputs": [],
   "source": [
    "import numpy as np"
   ]
  },
  {
   "cell_type": "code",
   "execution_count": 2,
   "metadata": {},
   "outputs": [],
   "source": [
    "r = np.random.random((10,10))"
   ]
  },
  {
   "cell_type": "code",
   "execution_count": 3,
   "metadata": {},
   "outputs": [
    {
     "data": {
      "text/plain": [
       "array([[0.99758997, 0.99209438, 0.47102633, 0.01900215, 0.32096614,\n",
       "        0.74088641, 0.69984881, 0.7264667 , 0.87565369, 0.14029662],\n",
       "       [0.83298394, 0.16374819, 0.38917727, 0.45900882, 0.82302017,\n",
       "        0.05843595, 0.07545033, 0.228708  , 0.82988128, 0.88751498],\n",
       "       [0.09669291, 0.01851854, 0.96652395, 0.79333243, 0.36964386,\n",
       "        0.49764709, 0.60370491, 0.96607836, 0.60532361, 0.15967841],\n",
       "       [0.58039833, 0.90712331, 0.64237955, 0.23172735, 0.67779934,\n",
       "        0.84924831, 0.9578867 , 0.68727664, 0.37606207, 0.80094687],\n",
       "       [0.46171382, 0.06136501, 0.95151816, 0.25558388, 0.48255283,\n",
       "        0.09646097, 0.18269912, 0.56070979, 0.29470904, 0.63289695],\n",
       "       [0.70356328, 0.38914771, 0.06442691, 0.22887809, 0.27815643,\n",
       "        0.76294267, 0.51812477, 0.45476254, 0.89977951, 0.38533234],\n",
       "       [0.46087549, 0.66735097, 0.43776433, 0.20690487, 0.30035772,\n",
       "        0.50116725, 0.33076941, 0.6856125 , 0.08318564, 0.65855422],\n",
       "       [0.6567774 , 0.0534114 , 0.073319  , 0.6727261 , 0.40878472,\n",
       "        0.34223893, 0.58049562, 0.5013755 , 0.19139952, 0.1781074 ],\n",
       "       [0.32398885, 0.75137623, 0.08945104, 0.83642185, 0.39862722,\n",
       "        0.57993855, 0.21153694, 0.37004416, 0.37068023, 0.95963756],\n",
       "       [0.91844386, 0.75643024, 0.20494476, 0.35604183, 0.13117083,\n",
       "        0.38435041, 0.44484891, 0.74450137, 0.95483565, 0.16971466]])"
      ]
     },
     "execution_count": 3,
     "metadata": {},
     "output_type": "execute_result"
    }
   ],
   "source": [
    "r"
   ]
  },
  {
   "cell_type": "code",
   "execution_count": 4,
   "metadata": {},
   "outputs": [],
   "source": [
    "rf = r.flatten()"
   ]
  },
  {
   "cell_type": "code",
   "execution_count": 5,
   "metadata": {},
   "outputs": [
    {
     "data": {
      "text/plain": [
       "array([0.99758997, 0.99209438, 0.47102633, 0.01900215, 0.32096614,\n",
       "       0.74088641, 0.69984881, 0.7264667 , 0.87565369, 0.14029662,\n",
       "       0.83298394, 0.16374819, 0.38917727, 0.45900882, 0.82302017,\n",
       "       0.05843595, 0.07545033, 0.228708  , 0.82988128, 0.88751498,\n",
       "       0.09669291, 0.01851854, 0.96652395, 0.79333243, 0.36964386,\n",
       "       0.49764709, 0.60370491, 0.96607836, 0.60532361, 0.15967841,\n",
       "       0.58039833, 0.90712331, 0.64237955, 0.23172735, 0.67779934,\n",
       "       0.84924831, 0.9578867 , 0.68727664, 0.37606207, 0.80094687,\n",
       "       0.46171382, 0.06136501, 0.95151816, 0.25558388, 0.48255283,\n",
       "       0.09646097, 0.18269912, 0.56070979, 0.29470904, 0.63289695,\n",
       "       0.70356328, 0.38914771, 0.06442691, 0.22887809, 0.27815643,\n",
       "       0.76294267, 0.51812477, 0.45476254, 0.89977951, 0.38533234,\n",
       "       0.46087549, 0.66735097, 0.43776433, 0.20690487, 0.30035772,\n",
       "       0.50116725, 0.33076941, 0.6856125 , 0.08318564, 0.65855422,\n",
       "       0.6567774 , 0.0534114 , 0.073319  , 0.6727261 , 0.40878472,\n",
       "       0.34223893, 0.58049562, 0.5013755 , 0.19139952, 0.1781074 ,\n",
       "       0.32398885, 0.75137623, 0.08945104, 0.83642185, 0.39862722,\n",
       "       0.57993855, 0.21153694, 0.37004416, 0.37068023, 0.95963756,\n",
       "       0.91844386, 0.75643024, 0.20494476, 0.35604183, 0.13117083,\n",
       "       0.38435041, 0.44484891, 0.74450137, 0.95483565, 0.16971466])"
      ]
     },
     "execution_count": 5,
     "metadata": {},
     "output_type": "execute_result"
    }
   ],
   "source": [
    "rf"
   ]
  },
  {
   "cell_type": "code",
   "execution_count": 16,
   "metadata": {},
   "outputs": [],
   "source": [
    "hist, bins = np.histogram(rf, bins=30)\n",
    "center = (bins[:-1] + bins[1:]) / 2"
   ]
  },
  {
   "cell_type": "code",
   "execution_count": 10,
   "metadata": {},
   "outputs": [
    {
     "data": {
      "text/plain": [
       "array([2, 7, 3, 2, 4, 5, 3, 2, 2, 4, 5, 6, 1, 6, 4, 1, 1, 5, 1, 4, 6, 1,\n",
       "       5, 2, 3, 2, 2, 3, 4, 4])"
      ]
     },
     "execution_count": 10,
     "metadata": {},
     "output_type": "execute_result"
    }
   ],
   "source": [
    "x"
   ]
  },
  {
   "cell_type": "code",
   "execution_count": 11,
   "metadata": {},
   "outputs": [
    {
     "data": {
      "text/plain": [
       "array([0.01851854, 0.05115425, 0.08378996, 0.11642568, 0.14906139,\n",
       "       0.18169711, 0.21433282, 0.24696854, 0.27960425, 0.31223997,\n",
       "       0.34487568, 0.37751139, 0.41014711, 0.44278282, 0.47541854,\n",
       "       0.50805425, 0.54068997, 0.57332568, 0.6059614 , 0.63859711,\n",
       "       0.67123282, 0.70386854, 0.73650425, 0.76913997, 0.80177568,\n",
       "       0.8344114 , 0.86704711, 0.89968282, 0.93231854, 0.96495425,\n",
       "       0.99758997])"
      ]
     },
     "execution_count": 11,
     "metadata": {},
     "output_type": "execute_result"
    }
   ],
   "source": [
    "bins"
   ]
  },
  {
   "cell_type": "code",
   "execution_count": 4,
   "metadata": {},
   "outputs": [],
   "source": [
    "import matplotlib.pyplot as plt\n",
    "import numpy as np"
   ]
  },
  {
   "cell_type": "code",
   "execution_count": 5,
   "metadata": {},
   "outputs": [],
   "source": [
    "def plot_random_hist(N, b):\n",
    "    a = np.random.random((N, 1))\n",
    "    af = a.flatten()\n",
    "    hist, bins = np.histogram(af, b)\n",
    "    center = (bins[:-1] + bins[1:]) / 2\n",
    "    fig = plt.figure()\n",
    "    plt.plot(center, hist)\n",
    "    fig.show()"
   ]
  },
  {
   "cell_type": "code",
   "execution_count": 7,
   "metadata": {},
   "outputs": [
    {
     "name": "stderr",
     "output_type": "stream",
     "text": [
      "/Users/sebastianlee/Dropbox/Documents/Work/Hack/Environments/meta/lib/python3.7/site-packages/ipykernel_launcher.py:8: UserWarning: Matplotlib is currently using module://ipykernel.pylab.backend_inline, which is a non-GUI backend, so cannot show the figure.\n",
      "  \n"
     ]
    },
    {
     "data": {
      "image/png": "[encoded data removed]",
      "text/plain": [
       "<Figure size 432x288 with 1 Axes>"
      ]
     },
     "metadata": {
      "needs_background": "light"
     },
     "output_type": "display_data"
    }
   ],
   "source": [
    "plot_random_hist(100000, 2000)"
   ]
  },
  {
   "cell_type": "code",
   "execution_count": 3,
   "metadata": {},
   "outputs": [
    {
     "ename": "ModuleNotFoundError",
     "evalue": "No module named 'scipy'",
     "output_type": "error",
     "traceback": [
      "\u001b[0;31m---------------------------------------------------------------------------\u001b[0m",
      "\u001b[0;31mModuleNotFoundError\u001b[0m                       Traceback (most recent call last)",
      "\u001b[0;32m<ipython-input-3-4363d2be0702>\u001b[0m in \u001b[0;36m<module>\u001b[0;34m\u001b[0m\n\u001b[0;32m----> 1\u001b[0;31m \u001b[0;32mimport\u001b[0m \u001b[0mscipy\u001b[0m\u001b[0;34m\u001b[0m\u001b[0m\n\u001b[0m",
      "\u001b[0;31mModuleNotFoundError\u001b[0m: No module named 'scipy'"
     ]
    }
   ],
   "source": [
    "import scipy"
   ]
  },
  {
   "cell_type": "code",
   "execution_count": 10,
   "metadata": {},
   "outputs": [
    {
     "name": "stdout",
     "output_type": "stream",
     "text": [
      "\u001b[33mYou are using pip version 10.0.1, however version 19.2.2 is available.\n",
      "You should consider upgrading via the 'pip install --upgrade pip' command.\u001b[0m\n"
     ]
    }
   ],
   "source": [
    "!pip3 show scipy"
   ]
  },
  {
   "cell_type": "code",
   "execution_count": 18,
   "metadata": {},
   "outputs": [],
   "source": [
    "from scipy import stats\n",
    "import numpy as np"
   ]
  },
  {
   "cell_type": "code",
   "execution_count": 19,
   "metadata": {},
   "outputs": [],
   "source": [
    "a = np.random.random((10, 10))\n",
    "b = np.random.random((10, 10))\n",
    "\n",
    "af = a.flatten()\n",
    "bf = b.flatten()"
   ]
  },
  {
   "cell_type": "code",
   "execution_count": 20,
   "metadata": {},
   "outputs": [
    {
     "data": {
      "text/plain": [
       "SpearmanrResult(correlation=-0.26517851785178514, pvalue=0.007667758077150683)"
      ]
     },
     "execution_count": 20,
     "metadata": {},
     "output_type": "execute_result"
    }
   ],
   "source": [
    "stats.spearmanr(af, bf)"
   ]
  },
  {
   "cell_type": "code",
   "execution_count": null,
   "metadata": {},
   "outputs": [],
   "source": []
  }
 ],
 "metadata": {
  "kernelspec": {
   "display_name": "Python 3",
   "language": "python",
   "name": "python3"
  },
  "language_info": {
   "codemirror_mode": {
    "name": "ipython",
    "version": 3
   },
   "file_extension": ".py",
   "mimetype": "text/x-python",
   "name": "python",
   "nbconvert_exporter": "python",
   "pygments_lexer": "ipython3",
   "version": "3.7.0"
  }
 },
 "nbformat": 4,
 "nbformat_minor": 4
}
