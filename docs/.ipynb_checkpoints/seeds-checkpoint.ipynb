{
 "cells": [
  {
   "cell_type": "code",
   "execution_count": 14,
   "metadata": {},
   "outputs": [],
   "source": [
    "seed_value= 12321 "
   ]
  },
  {
   "cell_type": "code",
   "execution_count": 15,
   "metadata": {},
   "outputs": [],
   "source": [
    "values = []"
   ]
  },
  {
   "cell_type": "code",
   "execution_count": 16,
   "metadata": {},
   "outputs": [],
   "source": [
    "import random"
   ]
  },
  {
   "cell_type": "code",
   "execution_count": 29,
   "metadata": {},
   "outputs": [],
   "source": [
    "random.seed(seed_value)"
   ]
  },
  {
   "cell_type": "code",
   "execution_count": 35,
   "metadata": {},
   "outputs": [],
   "source": [
    "values.append(random.random())"
   ]
  },
  {
   "cell_type": "code",
   "execution_count": null,
   "metadata": {},
   "outputs": [],
   "source": []
  },
  {
   "cell_type": "code",
   "execution_count": 27,
   "metadata": {},
   "outputs": [
    {
     "data": {
      "text/plain": [
       "[0.5602018375866805,\n",
       " 0.743021303700403,\n",
       " 0.8041105000951387,\n",
       " 0.2417356893121535,\n",
       " 0.931313476219748,\n",
       " 0.9692101648398728]"
      ]
     },
     "execution_count": 27,
     "metadata": {},
     "output_type": "execute_result"
    }
   ],
   "source": [
    "values"
   ]
  },
  {
   "cell_type": "code",
   "execution_count": 23,
   "metadata": {},
   "outputs": [],
   "source": [
    "import random"
   ]
  },
  {
   "cell_type": "code",
   "execution_count": 28,
   "metadata": {},
   "outputs": [],
   "source": [
    "import random"
   ]
  },
  {
   "cell_type": "code",
   "execution_count": 36,
   "metadata": {},
   "outputs": [
    {
     "data": {
      "text/plain": [
       "[0.5602018375866805,\n",
       " 0.743021303700403,\n",
       " 0.8041105000951387,\n",
       " 0.2417356893121535,\n",
       " 0.931313476219748,\n",
       " 0.9692101648398728,\n",
       " 0.5602018375866805,\n",
       " 0.743021303700403,\n",
       " 0.8041105000951387,\n",
       " 0.2417356893121535,\n",
       " 0.931313476219748,\n",
       " 0.9692101648398728]"
      ]
     },
     "execution_count": 36,
     "metadata": {},
     "output_type": "execute_result"
    }
   ],
   "source": [
    "values"
   ]
  },
  {
   "cell_type": "code",
   "execution_count": 45,
   "metadata": {},
   "outputs": [],
   "source": [
    "def test_random1():\n",
    "    seed_value = 1\n",
    "    values = []\n",
    "    import random\n",
    "    random.seed(seed_value)\n",
    "    for _ in range(5):\n",
    "        values.append(random.random())\n",
    "    return values"
   ]
  },
  {
   "cell_type": "code",
   "execution_count": 46,
   "metadata": {},
   "outputs": [],
   "source": [
    "def test_random2():\n",
    "    seed_value = 1\n",
    "    values = []\n",
    "    import random\n",
    "    random.seed(seed_value)\n",
    "    for _ in range(3):\n",
    "        values.append(random.random())\n",
    "    import random\n",
    "    for _ in range(2):\n",
    "        values.append(random.random())\n",
    "    return values"
   ]
  },
  {
   "cell_type": "code",
   "execution_count": 47,
   "metadata": {},
   "outputs": [
    {
     "data": {
      "text/plain": [
       "[0.13436424411240122,\n",
       " 0.8474337369372327,\n",
       " 0.763774618976614,\n",
       " 0.2550690257394217,\n",
       " 0.49543508709194095]"
      ]
     },
     "execution_count": 47,
     "metadata": {},
     "output_type": "execute_result"
    }
   ],
   "source": [
    "test_random1()"
   ]
  },
  {
   "cell_type": "code",
   "execution_count": 48,
   "metadata": {},
   "outputs": [
    {
     "data": {
      "text/plain": [
       "[0.13436424411240122,\n",
       " 0.8474337369372327,\n",
       " 0.763774618976614,\n",
       " 0.2550690257394217,\n",
       " 0.49543508709194095]"
      ]
     },
     "execution_count": 48,
     "metadata": {},
     "output_type": "execute_result"
    }
   ],
   "source": [
    "test_random2()"
   ]
  },
  {
   "cell_type": "code",
   "execution_count": 50,
   "metadata": {},
   "outputs": [
    {
     "data": {
      "text/plain": [
       "True"
      ]
     },
     "execution_count": 50,
     "metadata": {},
     "output_type": "execute_result"
    }
   ],
   "source": [
    "test_random1() == test_random2()"
   ]
  },
  {
   "cell_type": "code",
   "execution_count": 52,
   "metadata": {},
   "outputs": [],
   "source": [
    "import numpy as np"
   ]
  },
  {
   "cell_type": "code",
   "execution_count": 54,
   "metadata": {},
   "outputs": [],
   "source": [
    "a = np.random.random((5,5))"
   ]
  },
  {
   "cell_type": "code",
   "execution_count": 56,
   "metadata": {},
   "outputs": [],
   "source": [
    "b = np.random.random((5,5))"
   ]
  },
  {
   "cell_type": "code",
   "execution_count": 63,
   "metadata": {},
   "outputs": [
    {
     "data": {
      "text/plain": [
       "array([0.96564389, 0.89241054, 0.68019208, 0.10571146, 0.94537125,\n",
       "       0.17085779, 0.64612923, 0.50881225, 0.10818609, 0.50150097,\n",
       "       0.32439478, 0.18472922, 0.2804863 , 0.6242576 , 0.59885861,\n",
       "       0.00596391, 0.26442523, 0.83551883, 0.76224032, 0.9103682 ,\n",
       "       0.26486789, 0.96065934, 0.99955278, 0.27966658, 0.00997198])"
      ]
     },
     "execution_count": 63,
     "metadata": {},
     "output_type": "execute_result"
    }
   ],
   "source": [
    "a.flatten()"
   ]
  },
  {
   "cell_type": "code",
   "execution_count": 64,
   "metadata": {},
   "outputs": [
    {
     "data": {
      "text/plain": [
       "array([0.59821425, 0.56864736, 0.42095647, 0.3067799 , 0.25607996,\n",
       "       0.87212546, 0.03977389, 0.03756336, 0.80604563, 0.63660016,\n",
       "       0.71550195, 0.6448181 , 0.16116728, 0.14364584, 0.65018934,\n",
       "       0.1134053 , 0.36376012, 0.90925281, 0.83406039, 0.05899484,\n",
       "       0.8634366 , 0.66542433, 0.1537146 , 0.68525214, 0.14741992])"
      ]
     },
     "execution_count": 64,
     "metadata": {},
     "output_type": "execute_result"
    }
   ],
   "source": [
    "b.flatten()"
   ]
  },
  {
   "cell_type": "code",
   "execution_count": 66,
   "metadata": {},
   "outputs": [
    {
     "data": {
      "text/plain": [
       "5.882454933773703"
      ]
     },
     "execution_count": 66,
     "metadata": {},
     "output_type": "execute_result"
    }
   ],
   "source": [
    "np.correlate(a.flatten(), b.flatten())[0]"
   ]
  },
  {
   "cell_type": "code",
   "execution_count": null,
   "metadata": {},
   "outputs": [],
   "source": []
  }
 ],
 "metadata": {
  "kernelspec": {
   "display_name": "Python 3",
   "language": "python",
   "name": "python3"
  },
  "language_info": {
   "codemirror_mode": {
    "name": "ipython",
    "version": 3
   },
   "file_extension": ".py",
   "mimetype": "text/x-python",
   "name": "python",
   "nbconvert_exporter": "python",
   "pygments_lexer": "ipython3",
   "version": "3.7.0"
  }
 },
 "nbformat": 4,
 "nbformat_minor": 4
}
