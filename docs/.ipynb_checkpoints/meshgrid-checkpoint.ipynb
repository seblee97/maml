{
 "cells": [
  {
   "cell_type": "code",
   "execution_count": 1,
   "metadata": {},
   "outputs": [],
   "source": [
    "import numpy as np"
   ]
  },
  {
   "cell_type": "code",
   "execution_count": 2,
   "metadata": {},
   "outputs": [],
   "source": [
    "xrange = [0, np.pi]\n",
    "yrange = [0.1, 5]\n",
    "\n",
    "box_size_x = np.pi / 8\n",
    "box_size_y = 0.2"
   ]
  },
  {
   "cell_type": "code",
   "execution_count": 22,
   "metadata": {},
   "outputs": [],
   "source": [
    "pranges = []\n",
    "for i in range(3):\n",
    "    pranges.append(int((xrange[1] - xrange[0]) / box_size_x))"
   ]
  },
  {
   "cell_type": "code",
   "execution_count": 137,
   "metadata": {},
   "outputs": [],
   "source": [
    "pranges\n",
    "pg = np.zeros(tuple(pranges))"
   ]
  },
  {
   "cell_type": "code",
   "execution_count": 29,
   "metadata": {},
   "outputs": [],
   "source": [
    "pg[0][0][3] = 1"
   ]
  },
  {
   "cell_type": "code",
   "execution_count": 70,
   "metadata": {},
   "outputs": [
    {
     "data": {
      "text/plain": [
       "0.003806580817976579"
      ]
     },
     "execution_count": 70,
     "metadata": {},
     "output_type": "execute_result"
    }
   ],
   "source": [
    "random.random()"
   ]
  },
  {
   "cell_type": "code",
   "execution_count": 49,
   "metadata": {},
   "outputs": [],
   "source": [
    "import random"
   ]
  },
  {
   "cell_type": "code",
   "execution_count": 89,
   "metadata": {},
   "outputs": [],
   "source": [
    "key = (2,2)"
   ]
  },
  {
   "cell_type": "code",
   "execution_count": 90,
   "metadata": {},
   "outputs": [
    {
     "data": {
      "text/plain": [
       "0.20497575672678092"
      ]
     },
     "execution_count": 90,
     "metadata": {},
     "output_type": "execute_result"
    }
   ],
   "source": [
    "np.random.normal(5, 5, (3, 3))[key]"
   ]
  },
  {
   "cell_type": "code",
   "execution_count": 57,
   "metadata": {},
   "outputs": [
    {
     "data": {
      "text/plain": [
       "(8, 8, 8)"
      ]
     },
     "execution_count": 57,
     "metadata": {},
     "output_type": "execute_result"
    }
   ],
   "source": [
    "pg.shape"
   ]
  },
  {
   "cell_type": "code",
   "execution_count": 91,
   "metadata": {},
   "outputs": [
    {
     "data": {
      "text/plain": [
       "[2, 0, 4]"
      ]
     },
     "execution_count": 91,
     "metadata": {},
     "output_type": "execute_result"
    }
   ],
   "source": [
    "[np.random.randint(D) for D in pg.shape]"
   ]
  },
  {
   "cell_type": "code",
   "execution_count": null,
   "metadata": {},
   "outputs": [],
   "source": []
  },
  {
   "cell_type": "code",
   "execution_count": 13,
   "metadata": {},
   "outputs": [],
   "source": [
    "X, Y = np.meshgrid(\n",
    "    np.arange(xrange[0], xrange[1], box_size_x),\n",
    "    np.arange(yrange[0], yrange[1], box_size_y)\n",
    ")"
   ]
  },
  {
   "cell_type": "code",
   "execution_count": 11,
   "metadata": {},
   "outputs": [
    {
     "data": {
      "text/plain": [
       "array([[0.        , 0.39269908, 0.78539816, 1.17809725, 1.57079633,\n",
       "        1.96349541, 2.35619449, 2.74889357],\n",
       "       [0.        , 0.39269908, 0.78539816, 1.17809725, 1.57079633,\n",
       "        1.96349541, 2.35619449, 2.74889357],\n",
       "       [0.        , 0.39269908, 0.78539816, 1.17809725, 1.57079633,\n",
       "        1.96349541, 2.35619449, 2.74889357],\n",
       "       [0.        , 0.39269908, 0.78539816, 1.17809725, 1.57079633,\n",
       "        1.96349541, 2.35619449, 2.74889357],\n",
       "       [0.        , 0.39269908, 0.78539816, 1.17809725, 1.57079633,\n",
       "        1.96349541, 2.35619449, 2.74889357],\n",
       "       [0.        , 0.39269908, 0.78539816, 1.17809725, 1.57079633,\n",
       "        1.96349541, 2.35619449, 2.74889357],\n",
       "       [0.        , 0.39269908, 0.78539816, 1.17809725, 1.57079633,\n",
       "        1.96349541, 2.35619449, 2.74889357],\n",
       "       [0.        , 0.39269908, 0.78539816, 1.17809725, 1.57079633,\n",
       "        1.96349541, 2.35619449, 2.74889357],\n",
       "       [0.        , 0.39269908, 0.78539816, 1.17809725, 1.57079633,\n",
       "        1.96349541, 2.35619449, 2.74889357],\n",
       "       [0.        , 0.39269908, 0.78539816, 1.17809725, 1.57079633,\n",
       "        1.96349541, 2.35619449, 2.74889357],\n",
       "       [0.        , 0.39269908, 0.78539816, 1.17809725, 1.57079633,\n",
       "        1.96349541, 2.35619449, 2.74889357],\n",
       "       [0.        , 0.39269908, 0.78539816, 1.17809725, 1.57079633,\n",
       "        1.96349541, 2.35619449, 2.74889357],\n",
       "       [0.        , 0.39269908, 0.78539816, 1.17809725, 1.57079633,\n",
       "        1.96349541, 2.35619449, 2.74889357],\n",
       "       [0.        , 0.39269908, 0.78539816, 1.17809725, 1.57079633,\n",
       "        1.96349541, 2.35619449, 2.74889357],\n",
       "       [0.        , 0.39269908, 0.78539816, 1.17809725, 1.57079633,\n",
       "        1.96349541, 2.35619449, 2.74889357],\n",
       "       [0.        , 0.39269908, 0.78539816, 1.17809725, 1.57079633,\n",
       "        1.96349541, 2.35619449, 2.74889357],\n",
       "       [0.        , 0.39269908, 0.78539816, 1.17809725, 1.57079633,\n",
       "        1.96349541, 2.35619449, 2.74889357],\n",
       "       [0.        , 0.39269908, 0.78539816, 1.17809725, 1.57079633,\n",
       "        1.96349541, 2.35619449, 2.74889357],\n",
       "       [0.        , 0.39269908, 0.78539816, 1.17809725, 1.57079633,\n",
       "        1.96349541, 2.35619449, 2.74889357],\n",
       "       [0.        , 0.39269908, 0.78539816, 1.17809725, 1.57079633,\n",
       "        1.96349541, 2.35619449, 2.74889357],\n",
       "       [0.        , 0.39269908, 0.78539816, 1.17809725, 1.57079633,\n",
       "        1.96349541, 2.35619449, 2.74889357],\n",
       "       [0.        , 0.39269908, 0.78539816, 1.17809725, 1.57079633,\n",
       "        1.96349541, 2.35619449, 2.74889357],\n",
       "       [0.        , 0.39269908, 0.78539816, 1.17809725, 1.57079633,\n",
       "        1.96349541, 2.35619449, 2.74889357],\n",
       "       [0.        , 0.39269908, 0.78539816, 1.17809725, 1.57079633,\n",
       "        1.96349541, 2.35619449, 2.74889357],\n",
       "       [0.        , 0.39269908, 0.78539816, 1.17809725, 1.57079633,\n",
       "        1.96349541, 2.35619449, 2.74889357]])"
      ]
     },
     "execution_count": 11,
     "metadata": {},
     "output_type": "execute_result"
    }
   ],
   "source": [
    "X"
   ]
  },
  {
   "cell_type": "code",
   "execution_count": 5,
   "metadata": {},
   "outputs": [
    {
     "data": {
      "text/plain": [
       "array([[0.1, 0.1, 0.1, 0.1, 0.1, 0.1, 0.1, 0.1],\n",
       "       [0.3, 0.3, 0.3, 0.3, 0.3, 0.3, 0.3, 0.3],\n",
       "       [0.5, 0.5, 0.5, 0.5, 0.5, 0.5, 0.5, 0.5],\n",
       "       [0.7, 0.7, 0.7, 0.7, 0.7, 0.7, 0.7, 0.7],\n",
       "       [0.9, 0.9, 0.9, 0.9, 0.9, 0.9, 0.9, 0.9],\n",
       "       [1.1, 1.1, 1.1, 1.1, 1.1, 1.1, 1.1, 1.1],\n",
       "       [1.3, 1.3, 1.3, 1.3, 1.3, 1.3, 1.3, 1.3],\n",
       "       [1.5, 1.5, 1.5, 1.5, 1.5, 1.5, 1.5, 1.5],\n",
       "       [1.7, 1.7, 1.7, 1.7, 1.7, 1.7, 1.7, 1.7],\n",
       "       [1.9, 1.9, 1.9, 1.9, 1.9, 1.9, 1.9, 1.9],\n",
       "       [2.1, 2.1, 2.1, 2.1, 2.1, 2.1, 2.1, 2.1],\n",
       "       [2.3, 2.3, 2.3, 2.3, 2.3, 2.3, 2.3, 2.3],\n",
       "       [2.5, 2.5, 2.5, 2.5, 2.5, 2.5, 2.5, 2.5],\n",
       "       [2.7, 2.7, 2.7, 2.7, 2.7, 2.7, 2.7, 2.7],\n",
       "       [2.9, 2.9, 2.9, 2.9, 2.9, 2.9, 2.9, 2.9],\n",
       "       [3.1, 3.1, 3.1, 3.1, 3.1, 3.1, 3.1, 3.1],\n",
       "       [3.3, 3.3, 3.3, 3.3, 3.3, 3.3, 3.3, 3.3],\n",
       "       [3.5, 3.5, 3.5, 3.5, 3.5, 3.5, 3.5, 3.5],\n",
       "       [3.7, 3.7, 3.7, 3.7, 3.7, 3.7, 3.7, 3.7],\n",
       "       [3.9, 3.9, 3.9, 3.9, 3.9, 3.9, 3.9, 3.9],\n",
       "       [4.1, 4.1, 4.1, 4.1, 4.1, 4.1, 4.1, 4.1],\n",
       "       [4.3, 4.3, 4.3, 4.3, 4.3, 4.3, 4.3, 4.3],\n",
       "       [4.5, 4.5, 4.5, 4.5, 4.5, 4.5, 4.5, 4.5],\n",
       "       [4.7, 4.7, 4.7, 4.7, 4.7, 4.7, 4.7, 4.7],\n",
       "       [4.9, 4.9, 4.9, 4.9, 4.9, 4.9, 4.9, 4.9]])"
      ]
     },
     "execution_count": 5,
     "metadata": {},
     "output_type": "execute_result"
    }
   ],
   "source": [
    "Y"
   ]
  },
  {
   "cell_type": "code",
   "execution_count": 6,
   "metadata": {},
   "outputs": [],
   "source": [
    "def f(x, y):\n",
    "    return x + y"
   ]
  },
  {
   "cell_type": "code",
   "execution_count": 7,
   "metadata": {},
   "outputs": [],
   "source": [
    "z = f(X, Y)"
   ]
  },
  {
   "cell_type": "code",
   "execution_count": 140,
   "metadata": {},
   "outputs": [],
   "source": [
    "z = np.zeros((40, 40))"
   ]
  },
  {
   "cell_type": "code",
   "execution_count": 141,
   "metadata": {},
   "outputs": [
    {
     "data": {
      "text/plain": [
       "<matplotlib.image.AxesImage at 0x11964e470>"
      ]
     },
     "execution_count": 141,
     "metadata": {},
     "output_type": "execute_result"
    },
    {
     "data": {
      "image/png": "[encoded data removed]",
      "text/plain": [
       "<Figure size 432x288 with 1 Axes>"
      ]
     },
     "metadata": {
      "needs_background": "light"
     },
     "output_type": "display_data"
    }
   ],
   "source": [
    "fig = plt.figure()\n",
    "plt.imshow(z)"
   ]
  },
  {
   "cell_type": "code",
   "execution_count": 142,
   "metadata": {},
   "outputs": [],
   "source": [
    "z[0][0] = 1"
   ]
  },
  {
   "cell_type": "code",
   "execution_count": 143,
   "metadata": {},
   "outputs": [
    {
     "data": {
      "text/plain": [
       "<matplotlib.image.AxesImage at 0x1194fd358>"
      ]
     },
     "execution_count": 143,
     "metadata": {},
     "output_type": "execute_result"
    },
    {
     "data": {
      "image/png": "[encoded data removed]",
      "text/plain": [
       "<Figure size 432x288 with 1 Axes>"
      ]
     },
     "metadata": {
      "needs_background": "light"
     },
     "output_type": "display_data"
    }
   ],
   "source": [
    "plt.imshow(z)"
   ]
  },
  {
   "cell_type": "code",
   "execution_count": 27,
   "metadata": {},
   "outputs": [
    {
     "data": {
      "text/plain": [
       "200"
      ]
     },
     "execution_count": 27,
     "metadata": {},
     "output_type": "execute_result"
    }
   ],
   "source": [
    "len(y_spec[0]) * len(x_spec)"
   ]
  },
  {
   "cell_type": "code",
   "execution_count": 24,
   "metadata": {},
   "outputs": [
    {
     "data": {
      "text/plain": [
       "40000"
      ]
     },
     "execution_count": 24,
     "metadata": {},
     "output_type": "execute_result"
    }
   ],
   "source": [
    "y_spec.shape[0] * y_spec.shape[1] * x_spec.shape[0] * x_spec.shape[1]"
   ]
  },
  {
   "cell_type": "code",
   "execution_count": 25,
   "metadata": {},
   "outputs": [
    {
     "data": {
      "text/plain": [
       "(200, 2)"
      ]
     },
     "execution_count": 25,
     "metadata": {},
     "output_type": "execute_result"
    }
   ],
   "source": [
    "parameter_space_tuples.shape"
   ]
  },
  {
   "cell_type": "code",
   "execution_count": 92,
   "metadata": {},
   "outputs": [],
   "source": [
    "z = np.zeros((5,10))"
   ]
  },
  {
   "cell_type": "code",
   "execution_count": 96,
   "metadata": {},
   "outputs": [],
   "source": [
    "import matplotlib.pyplot as plt"
   ]
  },
  {
   "cell_type": "code",
   "execution_count": 127,
   "metadata": {},
   "outputs": [
    {
     "name": "stderr",
     "output_type": "stream",
     "text": [
      "/Users/sebastianlee/Dropbox/Documents/Work/Hack/Environments/meta/lib/python3.7/site-packages/ipykernel_launcher.py:5: UserWarning: Matplotlib is currently using module://ipykernel.pylab.backend_inline, which is a non-GUI backend, so cannot show the figure.\n",
      "  \"\"\"\n"
     ]
    },
    {
     "data": {
      "image/png": "[encoded data removed]",
      "text/plain": [
       "<Figure size 432x288 with 1 Axes>"
      ]
     },
     "metadata": {
      "needs_background": "light"
     },
     "output_type": "display_data"
    }
   ],
   "source": [
    "fig = plt.figure()\n",
    "locs, labels = plt.xticks()\n",
    "plt.xticks(locs, [5 * i for i in locs])\n",
    "plt.imshow(z)\n",
    "fig.show()"
   ]
  },
  {
   "cell_type": "code",
   "execution_count": 123,
   "metadata": {},
   "outputs": [
    {
     "data": {
      "text/plain": [
       "array([-2.,  0.,  2.,  4.,  6.,  8., 10.])"
      ]
     },
     "execution_count": 123,
     "metadata": {},
     "output_type": "execute_result"
    }
   ],
   "source": [
    "locs"
   ]
  },
  {
   "cell_type": "code",
   "execution_count": 124,
   "metadata": {},
   "outputs": [
    {
     "data": {
      "text/plain": [
       "array([ True,  True,  True,  True,  True,  True,  True])"
      ]
     },
     "execution_count": 124,
     "metadata": {},
     "output_type": "execute_result"
    }
   ],
   "source": [
    "locs == np.arange(-2.,12.,2.)"
   ]
  },
  {
   "cell_type": "code",
   "execution_count": 107,
   "metadata": {},
   "outputs": [],
   "source": [
    "labels = [5 * i for i in locs]"
   ]
  },
  {
   "cell_type": "code",
   "execution_count": 108,
   "metadata": {},
   "outputs": [
    {
     "data": {
      "text/plain": [
       "[-10.0, 0.0, 10.0, 20.0, 30.0, 40.0, 50.0]"
      ]
     },
     "execution_count": 108,
     "metadata": {},
     "output_type": "execute_result"
    }
   ],
   "source": [
    "labels"
   ]
  },
  {
   "cell_type": "code",
   "execution_count": 109,
   "metadata": {},
   "outputs": [
    {
     "ename": "TypeError",
     "evalue": "object of type 'NoneType' has no len()",
     "output_type": "error",
     "traceback": [
      "\u001b[0;31m---------------------------------------------------------------------------\u001b[0m",
      "\u001b[0;31mTypeError\u001b[0m                                 Traceback (most recent call last)",
      "\u001b[0;32m<ipython-input-109-3366406ebe48>\u001b[0m in \u001b[0;36m<module>\u001b[0;34m\u001b[0m\n\u001b[0;32m----> 1\u001b[0;31m \u001b[0mplt\u001b[0m\u001b[0;34m.\u001b[0m\u001b[0mxticks\u001b[0m\u001b[0;34m(\u001b[0m\u001b[0mlocs\u001b[0m\u001b[0;34m=\u001b[0m\u001b[0mlocs\u001b[0m\u001b[0;34m,\u001b[0m \u001b[0mlabels\u001b[0m\u001b[0;34m=\u001b[0m\u001b[0mlabels\u001b[0m\u001b[0;34m)\u001b[0m\u001b[0;34m\u001b[0m\u001b[0m\n\u001b[0m",
      "\u001b[0;32m~/Dropbox/Documents/Work/Hack/Environments/meta/lib/python3.7/site-packages/matplotlib/pyplot.py\u001b[0m in \u001b[0;36mxticks\u001b[0;34m(ticks, labels, **kwargs)\u001b[0m\n\u001b[1;32m   1535\u001b[0m         \u001b[0mlabels\u001b[0m \u001b[0;34m=\u001b[0m \u001b[0max\u001b[0m\u001b[0;34m.\u001b[0m\u001b[0mget_xticklabels\u001b[0m\u001b[0;34m(\u001b[0m\u001b[0;34m)\u001b[0m\u001b[0;34m\u001b[0m\u001b[0m\n\u001b[1;32m   1536\u001b[0m     \u001b[0;32melse\u001b[0m\u001b[0;34m:\u001b[0m\u001b[0;34m\u001b[0m\u001b[0m\n\u001b[0;32m-> 1537\u001b[0;31m         \u001b[0mlocs\u001b[0m \u001b[0;34m=\u001b[0m \u001b[0max\u001b[0m\u001b[0;34m.\u001b[0m\u001b[0mset_xticks\u001b[0m\u001b[0;34m(\u001b[0m\u001b[0mticks\u001b[0m\u001b[0;34m)\u001b[0m\u001b[0;34m\u001b[0m\u001b[0m\n\u001b[0m\u001b[1;32m   1538\u001b[0m         \u001b[0mlabels\u001b[0m \u001b[0;34m=\u001b[0m \u001b[0max\u001b[0m\u001b[0;34m.\u001b[0m\u001b[0mset_xticklabels\u001b[0m\u001b[0;34m(\u001b[0m\u001b[0mlabels\u001b[0m\u001b[0;34m,\u001b[0m \u001b[0;34m**\u001b[0m\u001b[0mkwargs\u001b[0m\u001b[0;34m)\u001b[0m\u001b[0;34m\u001b[0m\u001b[0m\n\u001b[1;32m   1539\u001b[0m     \u001b[0;32mfor\u001b[0m \u001b[0ml\u001b[0m \u001b[0;32min\u001b[0m \u001b[0mlabels\u001b[0m\u001b[0;34m:\u001b[0m\u001b[0;34m\u001b[0m\u001b[0m\n",
      "\u001b[0;32m~/Dropbox/Documents/Work/Hack/Environments/meta/lib/python3.7/site-packages/matplotlib/axes/_base.py\u001b[0m in \u001b[0;36mset_xticks\u001b[0;34m(self, ticks, minor)\u001b[0m\n\u001b[1;32m   3343\u001b[0m             \u001b[0mDefault\u001b[0m \u001b[0;32mis\u001b[0m\u001b[0;31m \u001b[0m\u001b[0;31m`\u001b[0m\u001b[0;31m`\u001b[0m\u001b[0;32mFalse\u001b[0m\u001b[0;31m`\u001b[0m\u001b[0;31m`\u001b[0m\u001b[0;34m.\u001b[0m\u001b[0;34m\u001b[0m\u001b[0m\n\u001b[1;32m   3344\u001b[0m         \"\"\"\n\u001b[0;32m-> 3345\u001b[0;31m         \u001b[0mret\u001b[0m \u001b[0;34m=\u001b[0m \u001b[0mself\u001b[0m\u001b[0;34m.\u001b[0m\u001b[0mxaxis\u001b[0m\u001b[0;34m.\u001b[0m\u001b[0mset_ticks\u001b[0m\u001b[0;34m(\u001b[0m\u001b[0mticks\u001b[0m\u001b[0;34m,\u001b[0m \u001b[0mminor\u001b[0m\u001b[0;34m=\u001b[0m\u001b[0mminor\u001b[0m\u001b[0;34m)\u001b[0m\u001b[0;34m\u001b[0m\u001b[0m\n\u001b[0m\u001b[1;32m   3346\u001b[0m         \u001b[0mself\u001b[0m\u001b[0;34m.\u001b[0m\u001b[0mstale\u001b[0m \u001b[0;34m=\u001b[0m \u001b[0;32mTrue\u001b[0m\u001b[0;34m\u001b[0m\u001b[0m\n\u001b[1;32m   3347\u001b[0m         \u001b[0;32mreturn\u001b[0m \u001b[0mret\u001b[0m\u001b[0;34m\u001b[0m\u001b[0m\n",
      "\u001b[0;32m~/Dropbox/Documents/Work/Hack/Environments/meta/lib/python3.7/site-packages/matplotlib/axis.py\u001b[0m in \u001b[0;36mset_ticks\u001b[0;34m(self, ticks, minor)\u001b[0m\n\u001b[1;32m   1751\u001b[0m         \u001b[0;31m# XXX if the user changes units, the information will be lost here\u001b[0m\u001b[0;34m\u001b[0m\u001b[0;34m\u001b[0m\u001b[0m\n\u001b[1;32m   1752\u001b[0m         \u001b[0mticks\u001b[0m \u001b[0;34m=\u001b[0m \u001b[0mself\u001b[0m\u001b[0;34m.\u001b[0m\u001b[0mconvert_units\u001b[0m\u001b[0;34m(\u001b[0m\u001b[0mticks\u001b[0m\u001b[0;34m)\u001b[0m\u001b[0;34m\u001b[0m\u001b[0m\n\u001b[0;32m-> 1753\u001b[0;31m         \u001b[0;32mif\u001b[0m \u001b[0mlen\u001b[0m\u001b[0;34m(\u001b[0m\u001b[0mticks\u001b[0m\u001b[0;34m)\u001b[0m \u001b[0;34m>\u001b[0m \u001b[0;36m1\u001b[0m\u001b[0;34m:\u001b[0m\u001b[0;34m\u001b[0m\u001b[0m\n\u001b[0m\u001b[1;32m   1754\u001b[0m             \u001b[0mxleft\u001b[0m\u001b[0;34m,\u001b[0m \u001b[0mxright\u001b[0m \u001b[0;34m=\u001b[0m \u001b[0mself\u001b[0m\u001b[0;34m.\u001b[0m\u001b[0mget_view_interval\u001b[0m\u001b[0;34m(\u001b[0m\u001b[0;34m)\u001b[0m\u001b[0;34m\u001b[0m\u001b[0m\n\u001b[1;32m   1755\u001b[0m             \u001b[0;32mif\u001b[0m \u001b[0mxright\u001b[0m \u001b[0;34m>\u001b[0m \u001b[0mxleft\u001b[0m\u001b[0;34m:\u001b[0m\u001b[0;34m\u001b[0m\u001b[0m\n",
      "\u001b[0;31mTypeError\u001b[0m: object of type 'NoneType' has no len()"
     ]
    },
    {
     "data": {
      "image/png": "[encoded data removed]",
      "text/plain": [
       "<Figure size 432x288 with 1 Axes>"
      ]
     },
     "metadata": {
      "needs_background": "light"
     },
     "output_type": "display_data"
    }
   ],
   "source": [
    "\n",
    "plt.xticks(locs=locs, labels=labels)"
   ]
  },
  {
   "cell_type": "code",
   "execution_count": 128,
   "metadata": {},
   "outputs": [],
   "source": [
    "import random"
   ]
  },
  {
   "cell_type": "code",
   "execution_count": 136,
   "metadata": {},
   "outputs": [
    {
     "data": {
      "text/plain": [
       "3.5851593183297563"
      ]
     },
     "execution_count": 136,
     "metadata": {},
     "output_type": "execute_result"
    }
   ],
   "source": [
    "random.uniform(2,4)"
   ]
  },
  {
   "cell_type": "code",
   "execution_count": 6,
   "metadata": {},
   "outputs": [
    {
     "ename": "SyntaxError",
     "evalue": "invalid syntax (<ipython-input-6-cfde36a53690>, line 1)",
     "output_type": "error",
     "traceback": [
      "\u001b[0;36m  File \u001b[0;32m\"<ipython-input-6-cfde36a53690>\"\u001b[0;36m, line \u001b[0;32m1\u001b[0m\n\u001b[0;31m    import .sinusoid\u001b[0m\n\u001b[0m           ^\u001b[0m\n\u001b[0;31mSyntaxError\u001b[0m\u001b[0;31m:\u001b[0m invalid syntax\n"
     ]
    }
   ],
   "source": [
    "import .sinusoid"
   ]
  },
  {
   "cell_type": "code",
   "execution_count": 8,
   "metadata": {},
   "outputs": [
    {
     "ename": "ModuleNotFoundError",
     "evalue": "No module named 'src'",
     "output_type": "error",
     "traceback": [
      "\u001b[0;31m---------------------------------------------------------------------------\u001b[0m",
      "\u001b[0;31mModuleNotFoundError\u001b[0m                       Traceback (most recent call last)",
      "\u001b[0;32m<ipython-input-8-3e299c5f1f67>\u001b[0m in \u001b[0;36m<module>\u001b[0;34m\u001b[0m\n\u001b[0;32m----> 1\u001b[0;31m \u001b[0;32mimport\u001b[0m \u001b[0msrc\u001b[0m\u001b[0;34m.\u001b[0m\u001b[0msinusoid\u001b[0m\u001b[0;34m\u001b[0m\u001b[0m\n\u001b[0m",
      "\u001b[0;31mModuleNotFoundError\u001b[0m: No module named 'src'"
     ]
    }
   ],
   "source": []
  },
  {
   "cell_type": "code",
   "execution_count": 1,
   "metadata": {},
   "outputs": [],
   "source": [
    "import numpy as np"
   ]
  },
  {
   "cell_type": "code",
   "execution_count": 2,
   "metadata": {},
   "outputs": [],
   "source": [
    "r = np.random.random((10,10))"
   ]
  },
  {
   "cell_type": "code",
   "execution_count": 3,
   "metadata": {},
   "outputs": [
    {
     "data": {
      "text/plain": [
       "array([[0.99758997, 0.99209438, 0.47102633, 0.01900215, 0.32096614,\n",
       "        0.74088641, 0.69984881, 0.7264667 , 0.87565369, 0.14029662],\n",
       "       [0.83298394, 0.16374819, 0.38917727, 0.45900882, 0.82302017,\n",
       "        0.05843595, 0.07545033, 0.228708  , 0.82988128, 0.88751498],\n",
       "       [0.09669291, 0.01851854, 0.96652395, 0.79333243, 0.36964386,\n",
       "        0.49764709, 0.60370491, 0.96607836, 0.60532361, 0.15967841],\n",
       "       [0.58039833, 0.90712331, 0.64237955, 0.23172735, 0.67779934,\n",
       "        0.84924831, 0.9578867 , 0.68727664, 0.37606207, 0.80094687],\n",
       "       [0.46171382, 0.06136501, 0.95151816, 0.25558388, 0.48255283,\n",
       "        0.09646097, 0.18269912, 0.56070979, 0.29470904, 0.63289695],\n",
       "       [0.70356328, 0.38914771, 0.06442691, 0.22887809, 0.27815643,\n",
       "        0.76294267, 0.51812477, 0.45476254, 0.89977951, 0.38533234],\n",
       "       [0.46087549, 0.66735097, 0.43776433, 0.20690487, 0.30035772,\n",
       "        0.50116725, 0.33076941, 0.6856125 , 0.08318564, 0.65855422],\n",
       "       [0.6567774 , 0.0534114 , 0.073319  , 0.6727261 , 0.40878472,\n",
       "        0.34223893, 0.58049562, 0.5013755 , 0.19139952, 0.1781074 ],\n",
       "       [0.32398885, 0.75137623, 0.08945104, 0.83642185, 0.39862722,\n",
       "        0.57993855, 0.21153694, 0.37004416, 0.37068023, 0.95963756],\n",
       "       [0.91844386, 0.75643024, 0.20494476, 0.35604183, 0.13117083,\n",
       "        0.38435041, 0.44484891, 0.74450137, 0.95483565, 0.16971466]])"
      ]
     },
     "execution_count": 3,
     "metadata": {},
     "output_type": "execute_result"
    }
   ],
   "source": [
    "r"
   ]
  },
  {
   "cell_type": "code",
   "execution_count": 4,
   "metadata": {},
   "outputs": [],
   "source": [
    "rf = r.flatten()"
   ]
  },
  {
   "cell_type": "code",
   "execution_count": 5,
   "metadata": {},
   "outputs": [
    {
     "data": {
      "text/plain": [
       "array([0.99758997, 0.99209438, 0.47102633, 0.01900215, 0.32096614,\n",
       "       0.74088641, 0.69984881, 0.7264667 , 0.87565369, 0.14029662,\n",
       "       0.83298394, 0.16374819, 0.38917727, 0.45900882, 0.82302017,\n",
       "       0.05843595, 0.07545033, 0.228708  , 0.82988128, 0.88751498,\n",
       "       0.09669291, 0.01851854, 0.96652395, 0.79333243, 0.36964386,\n",
       "       0.49764709, 0.60370491, 0.96607836, 0.60532361, 0.15967841,\n",
       "       0.58039833, 0.90712331, 0.64237955, 0.23172735, 0.67779934,\n",
       "       0.84924831, 0.9578867 , 0.68727664, 0.37606207, 0.80094687,\n",
       "       0.46171382, 0.06136501, 0.95151816, 0.25558388, 0.48255283,\n",
       "       0.09646097, 0.18269912, 0.56070979, 0.29470904, 0.63289695,\n",
       "       0.70356328, 0.38914771, 0.06442691, 0.22887809, 0.27815643,\n",
       "       0.76294267, 0.51812477, 0.45476254, 0.89977951, 0.38533234,\n",
       "       0.46087549, 0.66735097, 0.43776433, 0.20690487, 0.30035772,\n",
       "       0.50116725, 0.33076941, 0.6856125 , 0.08318564, 0.65855422,\n",
       "       0.6567774 , 0.0534114 , 0.073319  , 0.6727261 , 0.40878472,\n",
       "       0.34223893, 0.58049562, 0.5013755 , 0.19139952, 0.1781074 ,\n",
       "       0.32398885, 0.75137623, 0.08945104, 0.83642185, 0.39862722,\n",
       "       0.57993855, 0.21153694, 0.37004416, 0.37068023, 0.95963756,\n",
       "       0.91844386, 0.75643024, 0.20494476, 0.35604183, 0.13117083,\n",
       "       0.38435041, 0.44484891, 0.74450137, 0.95483565, 0.16971466])"
      ]
     },
     "execution_count": 5,
     "metadata": {},
     "output_type": "execute_result"
    }
   ],
   "source": [
    "rf"
   ]
  },
  {
   "cell_type": "code",
   "execution_count": 16,
   "metadata": {},
   "outputs": [],
   "source": [
    "hist, bins = np.histogram(rf, bins=30)\n",
    "center = (bins[:-1] + bins[1:]) / 2"
   ]
  },
  {
   "cell_type": "code",
   "execution_count": 10,
   "metadata": {},
   "outputs": [
    {
     "data": {
      "text/plain": [
       "array([2, 7, 3, 2, 4, 5, 3, 2, 2, 4, 5, 6, 1, 6, 4, 1, 1, 5, 1, 4, 6, 1,\n",
       "       5, 2, 3, 2, 2, 3, 4, 4])"
      ]
     },
     "execution_count": 10,
     "metadata": {},
     "output_type": "execute_result"
    }
   ],
   "source": [
    "x"
   ]
  },
  {
   "cell_type": "code",
   "execution_count": 11,
   "metadata": {},
   "outputs": [
    {
     "data": {
      "text/plain": [
       "array([0.01851854, 0.05115425, 0.08378996, 0.11642568, 0.14906139,\n",
       "       0.18169711, 0.21433282, 0.24696854, 0.27960425, 0.31223997,\n",
       "       0.34487568, 0.37751139, 0.41014711, 0.44278282, 0.47541854,\n",
       "       0.50805425, 0.54068997, 0.57332568, 0.6059614 , 0.63859711,\n",
       "       0.67123282, 0.70386854, 0.73650425, 0.76913997, 0.80177568,\n",
       "       0.8344114 , 0.86704711, 0.89968282, 0.93231854, 0.96495425,\n",
       "       0.99758997])"
      ]
     },
     "execution_count": 11,
     "metadata": {},
     "output_type": "execute_result"
    }
   ],
   "source": [
    "bins"
   ]
  },
  {
   "cell_type": "code",
   "execution_count": 4,
   "metadata": {},
   "outputs": [],
   "source": [
    "import matplotlib.pyplot as plt\n",
    "import numpy as np"
   ]
  },
  {
   "cell_type": "code",
   "execution_count": 5,
   "metadata": {},
   "outputs": [],
   "source": [
    "def plot_random_hist(N, b):\n",
    "    a = np.random.random((N, 1))\n",
    "    af = a.flatten()\n",
    "    hist, bins = np.histogram(af, b)\n",
    "    center = (bins[:-1] + bins[1:]) / 2\n",
    "    fig = plt.figure()\n",
    "    plt.plot(center, hist)\n",
    "    fig.show()"
   ]
  },
  {
   "cell_type": "code",
   "execution_count": 7,
   "metadata": {},
   "outputs": [
    {
     "name": "stderr",
     "output_type": "stream",
     "text": [
      "/Users/sebastianlee/Dropbox/Documents/Work/Hack/Environments/meta/lib/python3.7/site-packages/ipykernel_launcher.py:8: UserWarning: Matplotlib is currently using module://ipykernel.pylab.backend_inline, which is a non-GUI backend, so cannot show the figure.\n",
      "  \n"
     ]
    },
    {
     "data": {
      "image/png": "[encoded data removed]",
      "text/plain": [
       "<Figure size 432x288 with 1 Axes>"
      ]
     },
     "metadata": {
      "needs_background": "light"
     },
     "output_type": "display_data"
    }
   ],
   "source": [
    "plot_random_hist(100000, 2000)"
   ]
  },
  {
   "cell_type": "code",
   "execution_count": 3,
   "metadata": {},
   "outputs": [
    {
     "ename": "ModuleNotFoundError",
     "evalue": "No module named 'scipy'",
     "output_type": "error",
     "traceback": [
      "\u001b[0;31m---------------------------------------------------------------------------\u001b[0m",
      "\u001b[0;31mModuleNotFoundError\u001b[0m                       Traceback (most recent call last)",
      "\u001b[0;32m<ipython-input-3-4363d2be0702>\u001b[0m in \u001b[0;36m<module>\u001b[0;34m\u001b[0m\n\u001b[0;32m----> 1\u001b[0;31m \u001b[0;32mimport\u001b[0m \u001b[0mscipy\u001b[0m\u001b[0;34m\u001b[0m\u001b[0m\n\u001b[0m",
      "\u001b[0;31mModuleNotFoundError\u001b[0m: No module named 'scipy'"
     ]
    }
   ],
   "source": [
    "import scipy"
   ]
  },
  {
   "cell_type": "code",
   "execution_count": 10,
   "metadata": {},
   "outputs": [
    {
     "name": "stdout",
     "output_type": "stream",
     "text": [
      "\u001b[33mYou are using pip version 10.0.1, however version 19.2.2 is available.\n",
      "You should consider upgrading via the 'pip install --upgrade pip' command.\u001b[0m\n"
     ]
    }
   ],
   "source": [
    "!pip3 show scipy"
   ]
  },
  {
   "cell_type": "code",
   "execution_count": 18,
   "metadata": {},
   "outputs": [],
   "source": [
    "from scipy import stats\n",
    "import numpy as np"
   ]
  },
  {
   "cell_type": "code",
   "execution_count": 19,
   "metadata": {},
   "outputs": [],
   "source": [
    "a = np.random.random((10, 10))\n",
    "b = np.random.random((10, 10))\n",
    "\n",
    "af = a.flatten()\n",
    "bf = b.flatten()"
   ]
  },
  {
   "cell_type": "code",
   "execution_count": 20,
   "metadata": {},
   "outputs": [
    {
     "data": {
      "text/plain": [
       "SpearmanrResult(correlation=-0.26517851785178514, pvalue=0.007667758077150683)"
      ]
     },
     "execution_count": 20,
     "metadata": {},
     "output_type": "execute_result"
    }
   ],
   "source": [
    "stats.spearmanr(af, bf)"
   ]
  },
  {
   "cell_type": "markdown",
   "metadata": {},
   "source": [
    "## interpolate"
   ]
  },
  {
   "cell_type": "code",
   "execution_count": 25,
   "metadata": {},
   "outputs": [],
   "source": [
    "import numpy as np\n",
    "import matplotlib.pyplot as plt"
   ]
  },
  {
   "cell_type": "code",
   "execution_count": 29,
   "metadata": {},
   "outputs": [],
   "source": [
    "x = np.arange(10)\n",
    "y = np.arange(10)\n",
    "r = np.random.random((len(x), len(y)))"
   ]
  },
  {
   "cell_type": "code",
   "execution_count": 30,
   "metadata": {},
   "outputs": [
    {
     "data": {
      "text/plain": [
       "array([[0.74661387, 0.42153779, 0.23768625, 0.77080883, 0.95062915,\n",
       "        0.78122482, 0.44094567, 0.30210565, 0.71556527, 0.08021336],\n",
       "       [0.28742548, 0.85984351, 0.793008  , 0.49371829, 0.61481812,\n",
       "        0.37085274, 0.34262862, 0.22205822, 0.25714843, 0.10146961],\n",
       "       [0.46441675, 0.3200485 , 0.56420987, 0.84461049, 0.6165412 ,\n",
       "        0.25226378, 0.66254631, 0.49996737, 0.0691014 , 0.76436578],\n",
       "       [0.02010207, 0.50816564, 0.4301343 , 0.27802717, 0.22861743,\n",
       "        0.18441726, 0.03724188, 0.5085    , 0.57279358, 0.87174839],\n",
       "       [0.46020913, 0.15709859, 0.31505045, 0.48719062, 0.17820591,\n",
       "        0.20895461, 0.38935883, 0.0137672 , 0.07654824, 0.58735644],\n",
       "       [0.94347179, 0.14527654, 0.45524633, 0.29103862, 0.92510765,\n",
       "        0.43503315, 0.75118179, 0.65543048, 0.67644295, 0.70485361],\n",
       "       [0.10778496, 0.00428395, 0.02408358, 0.3838932 , 0.35942483,\n",
       "        0.44319669, 0.73684959, 0.06506663, 0.34571976, 0.6599443 ],\n",
       "       [0.32447027, 0.16372098, 0.0317609 , 0.48166321, 0.77232879,\n",
       "        0.74821554, 0.05971557, 0.61417725, 0.15041126, 0.87822604],\n",
       "       [0.27155535, 0.59824811, 0.02516874, 0.50649935, 0.98906136,\n",
       "        0.2214701 , 0.82792834, 0.71014895, 0.20644963, 0.90053826],\n",
       "       [0.15735018, 0.22739142, 0.74755108, 0.19595229, 0.0283985 ,\n",
       "        0.58762032, 0.35689111, 0.49231216, 0.17417236, 0.40778145]])"
      ]
     },
     "execution_count": 30,
     "metadata": {},
     "output_type": "execute_result"
    }
   ],
   "source": [
    "r"
   ]
  },
  {
   "cell_type": "code",
   "execution_count": 31,
   "metadata": {},
   "outputs": [
    {
     "name": "stderr",
     "output_type": "stream",
     "text": [
      "/Users/sebastianlee/Dropbox/Documents/Work/Hack/Environments/meta/lib/python3.7/site-packages/ipykernel_launcher.py:3: UserWarning: Matplotlib is currently using module://ipykernel.pylab.backend_inline, which is a non-GUI backend, so cannot show the figure.\n",
      "  This is separate from the ipykernel package so we can avoid doing imports until\n"
     ]
    },
    {
     "data": {
      "image/png": "[encoded data removed]",
      "text/plain": [
       "<Figure size 432x288 with 1 Axes>"
      ]
     },
     "metadata": {
      "needs_background": "light"
     },
     "output_type": "display_data"
    }
   ],
   "source": [
    "fig = plt.figure()\n",
    "plt.imshow(r)\n",
    "fig.show()"
   ]
  },
  {
   "cell_type": "code",
   "execution_count": 32,
   "metadata": {},
   "outputs": [],
   "source": [
    "import scipy"
   ]
  },
  {
   "cell_type": "code",
   "execution_count": 33,
   "metadata": {},
   "outputs": [],
   "source": [
    "i = scipy.interpolate.interp2d(x, y, r)"
   ]
  },
  {
   "cell_type": "code",
   "execution_count": 35,
   "metadata": {},
   "outputs": [
    {
     "data": {
      "text/plain": [
       "<scipy.interpolate.interpolate.interp2d at 0x109743a90>"
      ]
     },
     "execution_count": 35,
     "metadata": {},
     "output_type": "execute_result"
    }
   ],
   "source": [
    "i"
   ]
  },
  {
   "cell_type": "markdown",
   "metadata": {},
   "source": [
    "## weighted sample"
   ]
  },
  {
   "cell_type": "code",
   "execution_count": 38,
   "metadata": {},
   "outputs": [],
   "source": [
    "r = np.random.random((10, 10))"
   ]
  },
  {
   "cell_type": "code",
   "execution_count": 39,
   "metadata": {},
   "outputs": [
    {
     "data": {
      "text/plain": [
       "array([[0.39633927, 0.21995184, 0.92312973, 0.59583257, 0.18395952,\n",
       "        0.17085043, 0.52098356, 0.82745365, 0.37991609, 0.4786064 ],\n",
       "       [0.03929512, 0.97294261, 0.88668334, 0.38174417, 0.20878885,\n",
       "        0.87229569, 0.57214105, 0.75589812, 0.86763455, 0.47326916],\n",
       "       [0.06764159, 0.83609807, 0.69135085, 0.5726892 , 0.38828633,\n",
       "        0.91289974, 0.92432076, 0.50172743, 0.17952398, 0.73357837],\n",
       "       [0.89909519, 0.47983692, 0.69359827, 0.21072078, 0.90060991,\n",
       "        0.46811883, 0.48214015, 0.44207658, 0.43784973, 0.73147996],\n",
       "       [0.52609589, 0.40095819, 0.6419541 , 0.98100598, 0.47641058,\n",
       "        0.12586748, 0.5814006 , 0.11580419, 0.02336343, 0.30859538],\n",
       "       [0.08502294, 0.95907177, 0.43761663, 0.86200754, 0.22949336,\n",
       "        0.7685448 , 0.62445085, 0.72588514, 0.89205076, 0.20863197],\n",
       "       [0.64263315, 0.54308049, 0.94596167, 0.01603767, 0.16201755,\n",
       "        0.90571904, 0.47525942, 0.08446757, 0.08578886, 0.71171637],\n",
       "       [0.35080599, 0.63058493, 0.13200643, 0.67792374, 0.72972749,\n",
       "        0.5588171 , 0.35308904, 0.41952775, 0.06008451, 0.57437047],\n",
       "       [0.22542813, 0.82573474, 0.41871285, 0.15418562, 0.45325077,\n",
       "        0.36944745, 0.50946021, 0.18089321, 0.311543  , 0.85260802],\n",
       "       [0.83822396, 0.17451027, 0.77710918, 0.18258647, 0.94384579,\n",
       "        0.5096177 , 0.02207505, 0.56406259, 0.160068  , 0.30069862]])"
      ]
     },
     "execution_count": 39,
     "metadata": {},
     "output_type": "execute_result"
    }
   ],
   "source": [
    "r"
   ]
  },
  {
   "cell_type": "code",
   "execution_count": 53,
   "metadata": {},
   "outputs": [],
   "source": [
    "xy = np.arange(0, 100)"
   ]
  },
  {
   "cell_type": "code",
   "execution_count": 54,
   "metadata": {},
   "outputs": [
    {
     "data": {
      "text/plain": [
       "array([ 0,  1,  2,  3,  4,  5,  6,  7,  8,  9, 10, 11, 12, 13, 14, 15, 16,\n",
       "       17, 18, 19, 20, 21, 22, 23, 24, 25, 26, 27, 28, 29, 30, 31, 32, 33,\n",
       "       34, 35, 36, 37, 38, 39, 40, 41, 42, 43, 44, 45, 46, 47, 48, 49, 50,\n",
       "       51, 52, 53, 54, 55, 56, 57, 58, 59, 60, 61, 62, 63, 64, 65, 66, 67,\n",
       "       68, 69, 70, 71, 72, 73, 74, 75, 76, 77, 78, 79, 80, 81, 82, 83, 84,\n",
       "       85, 86, 87, 88, 89, 90, 91, 92, 93, 94, 95, 96, 97, 98, 99])"
      ]
     },
     "execution_count": 54,
     "metadata": {},
     "output_type": "execute_result"
    }
   ],
   "source": [
    "xy"
   ]
  },
  {
   "cell_type": "code",
   "execution_count": 67,
   "metadata": {},
   "outputs": [],
   "source": [
    "normalised_r = r.flatten() / np.sum(r)"
   ]
  },
  {
   "cell_type": "code",
   "execution_count": 68,
   "metadata": {},
   "outputs": [
    {
     "data": {
      "text/plain": [
       "array([0.00791266, 0.0043912 , 0.01842969, 0.01189541, 0.00367263,\n",
       "       0.00341092, 0.0104011 , 0.01651958, 0.00758478, 0.00955507,\n",
       "       0.0007845 , 0.01942417, 0.01770206, 0.00762128, 0.00416833,\n",
       "       0.01741482, 0.01142243, 0.01509102, 0.01732176, 0.00944851,\n",
       "       0.00135042, 0.01669216, 0.01380237, 0.01143337, 0.00775189,\n",
       "       0.01822545, 0.01845347, 0.01001666, 0.00358408, 0.01464542,\n",
       "       0.01794986, 0.00957963, 0.01384724, 0.0042069 , 0.0179801 ,\n",
       "       0.00934569, 0.00962562, 0.00882577, 0.00874139, 0.01460353,\n",
       "       0.01050317, 0.00800487, 0.0128162 , 0.01958515, 0.00951123,\n",
       "       0.00251286, 0.01160729, 0.00231196, 0.00046644, 0.00616091,\n",
       "       0.00169743, 0.01914725, 0.00873673, 0.01720942, 0.00458169,\n",
       "       0.0153435 , 0.01246676, 0.01449183, 0.01780922, 0.0041652 ,\n",
       "       0.01282976, 0.01084225, 0.01888551, 0.00032018, 0.00323458,\n",
       "       0.0180821 , 0.00948825, 0.00168634, 0.00171272, 0.01420896,\n",
       "       0.00700362, 0.01258922, 0.00263542, 0.01353431, 0.01456854,\n",
       "       0.01115642, 0.00704919, 0.0083756 , 0.00119955, 0.01146694,\n",
       "       0.00450053, 0.01648526, 0.00835933, 0.00307822, 0.00904886,\n",
       "       0.00737578, 0.01017104, 0.00361142, 0.00621976, 0.01702177,\n",
       "       0.0167346 , 0.00348399, 0.01551448, 0.00364522, 0.01884327,\n",
       "       0.01017419, 0.00044071, 0.01126115, 0.00319565, 0.00600325])"
      ]
     },
     "execution_count": 68,
     "metadata": {},
     "output_type": "execute_result"
    }
   ],
   "source": [
    "normalised_r"
   ]
  },
  {
   "cell_type": "code",
   "execution_count": 70,
   "metadata": {},
   "outputs": [],
   "source": [
    "random_choices = []\n",
    "for _ in range(10000):\n",
    "    random_choices.append(np.random.choice(xy, p=normalised_r))"
   ]
  },
  {
   "cell_type": "code",
   "execution_count": 74,
   "metadata": {},
   "outputs": [],
   "source": [
    "bc = np.bincount(random_choices) / len(random_choices)"
   ]
  },
  {
   "cell_type": "code",
   "execution_count": 75,
   "metadata": {},
   "outputs": [
    {
     "data": {
      "text/plain": [
       "SpearmanrResult(correlation=0.9826955612333435, pvalue=1.4057564156655165e-73)"
      ]
     },
     "execution_count": 75,
     "metadata": {},
     "output_type": "execute_result"
    }
   ],
   "source": [
    "stats.spearmanr(bc, normalised_r)"
   ]
  },
  {
   "cell_type": "code",
   "execution_count": 76,
   "metadata": {},
   "outputs": [
    {
     "data": {
      "text/plain": [
       "array([ 0,  1,  2,  3,  4,  5,  6,  7,  8,  9, 10, 11, 12, 13, 14, 15, 16,\n",
       "       17, 18, 19, 20, 21, 22, 23, 24, 25, 26, 27, 28, 29, 30, 31, 32, 33,\n",
       "       34, 35, 36, 37, 38, 39, 40, 41, 42, 43, 44, 45, 46, 47, 48, 49, 50,\n",
       "       51, 52, 53, 54, 55, 56, 57, 58, 59, 60, 61, 62, 63, 64, 65, 66, 67,\n",
       "       68, 69, 70, 71, 72, 73, 74, 75, 76, 77, 78, 79, 80, 81, 82, 83, 84,\n",
       "       85, 86, 87, 88, 89, 90, 91, 92, 93, 94, 95, 96, 97, 98, 99])"
      ]
     },
     "execution_count": 76,
     "metadata": {},
     "output_type": "execute_result"
    }
   ],
   "source": [
    "xy"
   ]
  },
  {
   "cell_type": "code",
   "execution_count": 77,
   "metadata": {},
   "outputs": [
    {
     "data": {
      "text/plain": [
       "array([[ 0,  1,  2,  3,  4,  5,  6,  7,  8,  9],\n",
       "       [10, 11, 12, 13, 14, 15, 16, 17, 18, 19],\n",
       "       [20, 21, 22, 23, 24, 25, 26, 27, 28, 29],\n",
       "       [30, 31, 32, 33, 34, 35, 36, 37, 38, 39],\n",
       "       [40, 41, 42, 43, 44, 45, 46, 47, 48, 49],\n",
       "       [50, 51, 52, 53, 54, 55, 56, 57, 58, 59],\n",
       "       [60, 61, 62, 63, 64, 65, 66, 67, 68, 69],\n",
       "       [70, 71, 72, 73, 74, 75, 76, 77, 78, 79],\n",
       "       [80, 81, 82, 83, 84, 85, 86, 87, 88, 89],\n",
       "       [90, 91, 92, 93, 94, 95, 96, 97, 98, 99]])"
      ]
     },
     "execution_count": 77,
     "metadata": {},
     "output_type": "execute_result"
    }
   ],
   "source": [
    "xy.reshape((10,10))"
   ]
  },
  {
   "cell_type": "code",
   "execution_count": 79,
   "metadata": {},
   "outputs": [],
   "source": [
    "w = np.where(xy.reshape((10,10)) == 92)"
   ]
  },
  {
   "cell_type": "code",
   "execution_count": 80,
   "metadata": {},
   "outputs": [
    {
     "data": {
      "text/plain": [
       "(array([9]), array([2]))"
      ]
     },
     "execution_count": 80,
     "metadata": {},
     "output_type": "execute_result"
    }
   ],
   "source": [
    "w"
   ]
  },
  {
   "cell_type": "code",
   "execution_count": 82,
   "metadata": {},
   "outputs": [
    {
     "data": {
      "text/plain": [
       "array([[9, 2]])"
      ]
     },
     "execution_count": 82,
     "metadata": {},
     "output_type": "execute_result"
    }
   ],
   "source": [
    "np.array(w).T"
   ]
  },
  {
   "cell_type": "markdown",
   "metadata": {},
   "source": [
    "## Param tuples,z 3D plot"
   ]
  },
  {
   "cell_type": "code",
   "execution_count": 84,
   "metadata": {},
   "outputs": [],
   "source": [
    "import random"
   ]
  },
  {
   "cell_type": "code",
   "execution_count": 94,
   "metadata": {},
   "outputs": [],
   "source": [
    "x = [(random.randint(0, 5), random.randint(0, 3)) for _ in range(10)]"
   ]
  },
  {
   "cell_type": "code",
   "execution_count": 95,
   "metadata": {},
   "outputs": [],
   "source": [
    "z = [random.randint(0, 20) for _ in range(10)]"
   ]
  },
  {
   "cell_type": "code",
   "execution_count": 97,
   "metadata": {},
   "outputs": [
    {
     "data": {
      "text/plain": [
       "[(4, 3),\n",
       " (4, 1),\n",
       " (4, 3),\n",
       " (1, 0),\n",
       " (5, 3),\n",
       " (5, 2),\n",
       " (1, 1),\n",
       " (3, 0),\n",
       " (1, 2),\n",
       " (4, 2)]"
      ]
     },
     "execution_count": 97,
     "metadata": {},
     "output_type": "execute_result"
    }
   ],
   "source": [
    "x"
   ]
  },
  {
   "cell_type": "code",
   "execution_count": 98,
   "metadata": {},
   "outputs": [
    {
     "data": {
      "text/plain": [
       "[1, 10, 20, 2, 15, 3, 7, 1, 3, 14]"
      ]
     },
     "execution_count": 98,
     "metadata": {},
     "output_type": "execute_result"
    }
   ],
   "source": [
    "z"
   ]
  },
  {
   "cell_type": "code",
   "execution_count": 99,
   "metadata": {},
   "outputs": [],
   "source": [
    "xi = [i[0] for i in x]\n",
    "yi = [i[1] for i in x]"
   ]
  },
  {
   "cell_type": "code",
   "execution_count": 110,
   "metadata": {},
   "outputs": [
    {
     "data": {
      "text/plain": [
       "[4, 4, 4, 1, 5, 5, 1, 3, 1, 4]"
      ]
     },
     "execution_count": 110,
     "metadata": {},
     "output_type": "execute_result"
    }
   ],
   "source": [
    "xi"
   ]
  },
  {
   "cell_type": "code",
   "execution_count": 111,
   "metadata": {},
   "outputs": [
    {
     "data": {
      "text/plain": [
       "[3, 1, 3, 0, 3, 2, 1, 0, 2, 2]"
      ]
     },
     "execution_count": 111,
     "metadata": {},
     "output_type": "execute_result"
    }
   ],
   "source": [
    "yi"
   ]
  },
  {
   "cell_type": "code",
   "execution_count": 112,
   "metadata": {},
   "outputs": [
    {
     "data": {
      "text/plain": [
       "[1, 10, 20, 2, 15, 3, 7, 1, 3, 14]"
      ]
     },
     "execution_count": 112,
     "metadata": {},
     "output_type": "execute_result"
    }
   ],
   "source": [
    "z"
   ]
  },
  {
   "cell_type": "code",
   "execution_count": 113,
   "metadata": {},
   "outputs": [],
   "source": [
    "x = np.unique(xi)"
   ]
  },
  {
   "cell_type": "code",
   "execution_count": 114,
   "metadata": {},
   "outputs": [
    {
     "data": {
      "text/plain": [
       "array([1, 3, 4, 5])"
      ]
     },
     "execution_count": 114,
     "metadata": {},
     "output_type": "execute_result"
    }
   ],
   "source": [
    "x"
   ]
  },
  {
   "cell_type": "code",
   "execution_count": 115,
   "metadata": {},
   "outputs": [],
   "source": [
    "y = np.unique(yi)"
   ]
  },
  {
   "cell_type": "code",
   "execution_count": 116,
   "metadata": {},
   "outputs": [
    {
     "data": {
      "text/plain": [
       "array([0, 1, 2, 3])"
      ]
     },
     "execution_count": 116,
     "metadata": {},
     "output_type": "execute_result"
    }
   ],
   "source": [
    "y"
   ]
  },
  {
   "cell_type": "code",
   "execution_count": 117,
   "metadata": {},
   "outputs": [],
   "source": [
    "X,Y = np.meshgrid(x,y)"
   ]
  },
  {
   "cell_type": "code",
   "execution_count": 118,
   "metadata": {},
   "outputs": [
    {
     "ename": "ValueError",
     "evalue": "cannot reshape array of size 10 into shape (4,4)",
     "output_type": "error",
     "traceback": [
      "\u001b[0;31m---------------------------------------------------------------------------\u001b[0m",
      "\u001b[0;31mValueError\u001b[0m                                Traceback (most recent call last)",
      "\u001b[0;32m<ipython-input-118-7e8533718224>\u001b[0m in \u001b[0;36m<module>\u001b[0;34m\u001b[0m\n\u001b[0;32m----> 1\u001b[0;31m \u001b[0mZ\u001b[0m\u001b[0;34m=\u001b[0m\u001b[0mnp\u001b[0m\u001b[0;34m.\u001b[0m\u001b[0marray\u001b[0m\u001b[0;34m(\u001b[0m\u001b[0mz\u001b[0m\u001b[0;34m)\u001b[0m\u001b[0;34m.\u001b[0m\u001b[0mreshape\u001b[0m\u001b[0;34m(\u001b[0m\u001b[0mlen\u001b[0m\u001b[0;34m(\u001b[0m\u001b[0my\u001b[0m\u001b[0;34m)\u001b[0m\u001b[0;34m,\u001b[0m\u001b[0mlen\u001b[0m\u001b[0;34m(\u001b[0m\u001b[0mx\u001b[0m\u001b[0;34m)\u001b[0m\u001b[0;34m)\u001b[0m\u001b[0;34m\u001b[0m\u001b[0m\n\u001b[0m",
      "\u001b[0;31mValueError\u001b[0m: cannot reshape array of size 10 into shape (4,4)"
     ]
    }
   ],
   "source": [
    "Z=np.array(z).reshape(len(y),len(x))"
   ]
  },
  {
   "cell_type": "code",
   "execution_count": 119,
   "metadata": {},
   "outputs": [
    {
     "ename": "OSError",
     "evalue": "eye_.txt not found.",
     "output_type": "error",
     "traceback": [
      "\u001b[0;31m---------------------------------------------------------------------------\u001b[0m",
      "\u001b[0;31mOSError\u001b[0m                                   Traceback (most recent call last)",
      "\u001b[0;32m<ipython-input-119-d4b8c8101ad9>\u001b[0m in \u001b[0;36m<module>\u001b[0;34m\u001b[0m\n\u001b[0;32m----> 1\u001b[0;31m \u001b[0mdata\u001b[0m \u001b[0;34m=\u001b[0m \u001b[0mnp\u001b[0m\u001b[0;34m.\u001b[0m\u001b[0mgenfromtxt\u001b[0m\u001b[0;34m(\u001b[0m\u001b[0;34m'eye_.txt'\u001b[0m\u001b[0;34m,\u001b[0m\u001b[0mdelimiter\u001b[0m\u001b[0;34m=\u001b[0m\u001b[0;34m','\u001b[0m\u001b[0;34m)\u001b[0m\u001b[0;34m\u001b[0m\u001b[0m\n\u001b[0m\u001b[1;32m      2\u001b[0m \u001b[0;34m\u001b[0m\u001b[0m\n\u001b[1;32m      3\u001b[0m \u001b[0mx\u001b[0m\u001b[0;34m=\u001b[0m\u001b[0mdata\u001b[0m\u001b[0;34m[\u001b[0m\u001b[0;34m:\u001b[0m\u001b[0;34m,\u001b[0m\u001b[0;36m0\u001b[0m\u001b[0;34m]\u001b[0m\u001b[0;34m\u001b[0m\u001b[0m\n\u001b[1;32m      4\u001b[0m \u001b[0my\u001b[0m\u001b[0;34m=\u001b[0m\u001b[0mdata\u001b[0m\u001b[0;34m[\u001b[0m\u001b[0;34m:\u001b[0m\u001b[0;34m,\u001b[0m\u001b[0;36m1\u001b[0m\u001b[0;34m]\u001b[0m\u001b[0;34m\u001b[0m\u001b[0m\n\u001b[1;32m      5\u001b[0m \u001b[0mz\u001b[0m\u001b[0;34m=\u001b[0m\u001b[0mdata\u001b[0m\u001b[0;34m[\u001b[0m\u001b[0;34m:\u001b[0m\u001b[0;34m,\u001b[0m\u001b[0;36m2\u001b[0m\u001b[0;34m]\u001b[0m\u001b[0;34m\u001b[0m\u001b[0m\n",
      "\u001b[0;32m~/Dropbox/Documents/Work/Hack/Environments/meta/lib/python3.7/site-packages/numpy/lib/npyio.py\u001b[0m in \u001b[0;36mgenfromtxt\u001b[0;34m(fname, dtype, comments, delimiter, skip_header, skip_footer, converters, missing_values, filling_values, usecols, names, excludelist, deletechars, replace_space, autostrip, case_sensitive, defaultfmt, unpack, usemask, loose, invalid_raise, max_rows, encoding)\u001b[0m\n\u001b[1;32m   1742\u001b[0m             \u001b[0mfname\u001b[0m \u001b[0;34m=\u001b[0m \u001b[0mos_fspath\u001b[0m\u001b[0;34m(\u001b[0m\u001b[0mfname\u001b[0m\u001b[0;34m)\u001b[0m\u001b[0;34m\u001b[0m\u001b[0m\n\u001b[1;32m   1743\u001b[0m         \u001b[0;32mif\u001b[0m \u001b[0misinstance\u001b[0m\u001b[0;34m(\u001b[0m\u001b[0mfname\u001b[0m\u001b[0;34m,\u001b[0m \u001b[0mbasestring\u001b[0m\u001b[0;34m)\u001b[0m\u001b[0;34m:\u001b[0m\u001b[0;34m\u001b[0m\u001b[0m\n\u001b[0;32m-> 1744\u001b[0;31m             \u001b[0mfhd\u001b[0m \u001b[0;34m=\u001b[0m \u001b[0miter\u001b[0m\u001b[0;34m(\u001b[0m\u001b[0mnp\u001b[0m\u001b[0;34m.\u001b[0m\u001b[0mlib\u001b[0m\u001b[0;34m.\u001b[0m\u001b[0m_datasource\u001b[0m\u001b[0;34m.\u001b[0m\u001b[0mopen\u001b[0m\u001b[0;34m(\u001b[0m\u001b[0mfname\u001b[0m\u001b[0;34m,\u001b[0m \u001b[0;34m'rt'\u001b[0m\u001b[0;34m,\u001b[0m \u001b[0mencoding\u001b[0m\u001b[0;34m=\u001b[0m\u001b[0mencoding\u001b[0m\u001b[0;34m)\u001b[0m\u001b[0;34m)\u001b[0m\u001b[0;34m\u001b[0m\u001b[0m\n\u001b[0m\u001b[1;32m   1745\u001b[0m             \u001b[0mown_fhd\u001b[0m \u001b[0;34m=\u001b[0m \u001b[0;32mTrue\u001b[0m\u001b[0;34m\u001b[0m\u001b[0m\n\u001b[1;32m   1746\u001b[0m         \u001b[0;32melse\u001b[0m\u001b[0;34m:\u001b[0m\u001b[0;34m\u001b[0m\u001b[0m\n",
      "\u001b[0;32m~/Dropbox/Documents/Work/Hack/Environments/meta/lib/python3.7/site-packages/numpy/lib/_datasource.py\u001b[0m in \u001b[0;36mopen\u001b[0;34m(path, mode, destpath, encoding, newline)\u001b[0m\n\u001b[1;32m    264\u001b[0m \u001b[0;34m\u001b[0m\u001b[0m\n\u001b[1;32m    265\u001b[0m     \u001b[0mds\u001b[0m \u001b[0;34m=\u001b[0m \u001b[0mDataSource\u001b[0m\u001b[0;34m(\u001b[0m\u001b[0mdestpath\u001b[0m\u001b[0;34m)\u001b[0m\u001b[0;34m\u001b[0m\u001b[0m\n\u001b[0;32m--> 266\u001b[0;31m     \u001b[0;32mreturn\u001b[0m \u001b[0mds\u001b[0m\u001b[0;34m.\u001b[0m\u001b[0mopen\u001b[0m\u001b[0;34m(\u001b[0m\u001b[0mpath\u001b[0m\u001b[0;34m,\u001b[0m \u001b[0mmode\u001b[0m\u001b[0;34m,\u001b[0m \u001b[0mencoding\u001b[0m\u001b[0;34m=\u001b[0m\u001b[0mencoding\u001b[0m\u001b[0;34m,\u001b[0m \u001b[0mnewline\u001b[0m\u001b[0;34m=\u001b[0m\u001b[0mnewline\u001b[0m\u001b[0;34m)\u001b[0m\u001b[0;34m\u001b[0m\u001b[0m\n\u001b[0m\u001b[1;32m    267\u001b[0m \u001b[0;34m\u001b[0m\u001b[0m\n\u001b[1;32m    268\u001b[0m \u001b[0;34m\u001b[0m\u001b[0m\n",
      "\u001b[0;32m~/Dropbox/Documents/Work/Hack/Environments/meta/lib/python3.7/site-packages/numpy/lib/_datasource.py\u001b[0m in \u001b[0;36mopen\u001b[0;34m(self, path, mode, encoding, newline)\u001b[0m\n\u001b[1;32m    622\u001b[0m                                       encoding=encoding, newline=newline)\n\u001b[1;32m    623\u001b[0m         \u001b[0;32melse\u001b[0m\u001b[0;34m:\u001b[0m\u001b[0;34m\u001b[0m\u001b[0m\n\u001b[0;32m--> 624\u001b[0;31m             \u001b[0;32mraise\u001b[0m \u001b[0mIOError\u001b[0m\u001b[0;34m(\u001b[0m\u001b[0;34m\"%s not found.\"\u001b[0m \u001b[0;34m%\u001b[0m \u001b[0mpath\u001b[0m\u001b[0;34m)\u001b[0m\u001b[0;34m\u001b[0m\u001b[0m\n\u001b[0m\u001b[1;32m    625\u001b[0m \u001b[0;34m\u001b[0m\u001b[0m\n\u001b[1;32m    626\u001b[0m \u001b[0;34m\u001b[0m\u001b[0m\n",
      "\u001b[0;31mOSError\u001b[0m: eye_.txt not found."
     ]
    }
   ],
   "source": [
    "data = np.genfromtxt('eye_.txt',delimiter=',')\n",
    "\n",
    "x=data[:,0]\n",
    "y=data[:,1]\n",
    "z=data[:,2]"
   ]
  },
  {
   "cell_type": "code",
   "execution_count": 120,
   "metadata": {},
   "outputs": [],
   "source": [
    "x = np.arange(10)"
   ]
  },
  {
   "cell_type": "code",
   "execution_count": 121,
   "metadata": {},
   "outputs": [
    {
     "data": {
      "text/plain": [
       "array([0, 1, 2, 3, 4, 5, 6, 7, 8, 9])"
      ]
     },
     "execution_count": 121,
     "metadata": {},
     "output_type": "execute_result"
    }
   ],
   "source": [
    "x"
   ]
  },
  {
   "cell_type": "code",
   "execution_count": 122,
   "metadata": {},
   "outputs": [],
   "source": [
    "y = np.arange(10)"
   ]
  },
  {
   "cell_type": "code",
   "execution_count": 125,
   "metadata": {},
   "outputs": [],
   "source": [
    "z = [random.random() for _ in range(100)]"
   ]
  },
  {
   "cell_type": "code",
   "execution_count": 126,
   "metadata": {},
   "outputs": [],
   "source": [
    "X,Y = np.meshgrid(x,y)"
   ]
  },
  {
   "cell_type": "code",
   "execution_count": 127,
   "metadata": {},
   "outputs": [],
   "source": [
    "Z=np.array(z).reshape(len(y),len(x))"
   ]
  },
  {
   "cell_type": "code",
   "execution_count": 128,
   "metadata": {
    "collapsed": true,
    "jupyter": {
     "outputs_hidden": true
    }
   },
   "outputs": [
    {
     "data": {
      "text/plain": [
       "<matplotlib.collections.QuadMesh at 0x11bdc7c18>"
      ]
     },
     "execution_count": 128,
     "metadata": {},
     "output_type": "execute_result"
    },
    {
     "data": {
      "image/png": "[encoded data removed]",
      "text/plain": [
       "<Figure size 432x288 with 1 Axes>"
      ]
     },
     "metadata": {
      "needs_background": "light"
     },
     "output_type": "display_data"
    }
   ],
   "source": [
    "plt.pcolormesh(X,Y,Z)"
   ]
  },
  {
   "cell_type": "code",
   "execution_count": 129,
   "metadata": {},
   "outputs": [
    {
     "data": {
      "text/plain": [
       "array([[0.56769096, 0.7274886 , 0.28211429, 0.37893213, 0.25643418,\n",
       "        0.85250591, 0.2003196 , 0.98008191, 0.34154763, 0.82155933],\n",
       "       [0.23982568, 0.58214551, 0.56688713, 0.88463912, 0.71047598,\n",
       "        0.74387169, 0.34541162, 0.9329266 , 0.01474238, 0.79108096],\n",
       "       [0.17193653, 0.83860146, 0.00573033, 0.68407369, 0.70395601,\n",
       "        0.66835569, 0.4373592 , 0.32720724, 0.60304011, 0.47073667],\n",
       "       [0.05681715, 0.02326682, 0.74615538, 0.32785247, 0.02194734,\n",
       "        0.84602974, 0.80792706, 0.77769209, 0.77110968, 0.2911495 ],\n",
       "       [0.52626336, 0.93820325, 0.08779214, 0.4331305 , 0.41948296,\n",
       "        0.84033316, 0.74065678, 0.32319999, 0.76142107, 0.44136795],\n",
       "       [0.32061822, 0.81539576, 0.39874561, 0.61353666, 0.91031084,\n",
       "        0.41305749, 0.30194253, 0.53150222, 0.39294786, 0.01201811],\n",
       "       [0.79490342, 0.46060684, 0.7051436 , 0.01768042, 0.34054654,\n",
       "        0.94121721, 0.9261253 , 0.31547195, 0.05921056, 0.14041997],\n",
       "       [0.42040221, 0.98356185, 0.46637244, 0.79418928, 0.09525912,\n",
       "        0.228339  , 0.55627478, 0.33856058, 0.00614353, 0.25538   ],\n",
       "       [0.12379778, 0.03101953, 0.56784893, 0.52161066, 0.061924  ,\n",
       "        0.06779983, 0.93867703, 0.08330782, 0.02297532, 0.98624106],\n",
       "       [0.55310381, 0.15355574, 0.35259313, 0.12607182, 0.65491612,\n",
       "        0.49873986, 0.21528151, 0.9913136 , 0.4072482 , 0.35825081]])"
      ]
     },
     "execution_count": 129,
     "metadata": {},
     "output_type": "execute_result"
    }
   ],
   "source": [
    "Z"
   ]
  },
  {
   "cell_type": "code",
   "execution_count": 130,
   "metadata": {},
   "outputs": [
    {
     "data": {
      "text/plain": [
       "<matplotlib.image.AxesImage at 0x11be522b0>"
      ]
     },
     "execution_count": 130,
     "metadata": {},
     "output_type": "execute_result"
    },
    {
     "data": {
      "image/png": "[encoded data removed]",
      "text/plain": [
       "<Figure size 432x288 with 1 Axes>"
      ]
     },
     "metadata": {
      "needs_background": "light"
     },
     "output_type": "display_data"
    }
   ],
   "source": [
    "plt.imshow(Z)"
   ]
  },
  {
   "cell_type": "code",
   "execution_count": 131,
   "metadata": {},
   "outputs": [],
   "source": [
    "import numpy as np"
   ]
  },
  {
   "cell_type": "code",
   "execution_count": 132,
   "metadata": {},
   "outputs": [
    {
     "data": {
      "text/plain": [
       "array([0.26798388, 0.82810179, 0.96556778, 0.53048486, 0.2178033 ,\n",
       "       0.35627551, 0.74655053, 0.096261  , 0.0798061 , 0.40662123])"
      ]
     },
     "execution_count": 132,
     "metadata": {},
     "output_type": "execute_result"
    }
   ],
   "source": [
    "np.random.rand(10)"
   ]
  },
  {
   "cell_type": "code",
   "execution_count": 133,
   "metadata": {},
   "outputs": [],
   "source": [
    "import yaml"
   ]
  },
  {
   "cell_type": "code",
   "execution_count": 134,
   "metadata": {},
   "outputs": [],
   "source": [
    "with open('../experiments/configs/base_config.yaml', 'r') as base_yaml_file:\n",
    "        base_params = yaml.load(base_yaml_file, yaml.SafeLoader)"
   ]
  },
  {
   "cell_type": "code",
   "execution_count": 140,
   "metadata": {},
   "outputs": [
    {
     "data": {
      "text/plain": [
       "{'experiment_name': None,\n",
       " 'seed': 0,\n",
       " 'use_gpu': False,\n",
       " 'resume': {'model': None, 'priority_queue': None, 'queue_counts': None},\n",
       " 'task_type': 'sin',\n",
       " 'training_iterations': 10000000,\n",
       " 'task_batch_size': 25,\n",
       " 'meta_lr': 0.01,\n",
       " 'inner_update_k': 10,\n",
       " 'inner_update_lr': 0.01,\n",
       " 'num_inner_updates': 1,\n",
       " 'validation_num_inner_updates': 5,\n",
       " 'validation_k': 10,\n",
       " 'validation_task_batch_size': 10,\n",
       " 'validation_frequency': 1000,\n",
       " 'visualisation_frequency': 10000,\n",
       " 'x_dim': 1,\n",
       " 'input_dimension': 1,\n",
       " 'network_layers': [40, 40],\n",
       " 'output_dimension': 1,\n",
       " 'fixed_validation': True,\n",
       " 'priority_sample': None,\n",
       " 'sin': {'domain_bounds': [-5, 5],\n",
       "  'amplitude_bounds': [0.1, 0.5],\n",
       "  'phase_bounds': [0, 180],\n",
       "  'fixed_val_blocks': [0.05, 5]},\n",
       " 'priority_queue': {'sample_type': None,\n",
       "  'epsilon_start': 1.0,\n",
       "  'epsilon_final': 0.1,\n",
       "  'epsilon_decay_start': None,\n",
       "  'epsilon_decay_rate': 1e-07,\n",
       "  'block_sizes': [0.05, 5],\n",
       "  'param_ranges': [[0.1, 0.5], [0, 180]],\n",
       "  'burn_in': None,\n",
       "  'initial_value': None}}"
      ]
     },
     "execution_count": 140,
     "metadata": {},
     "output_type": "execute_result"
    }
   ],
   "source": [
    "base_params"
   ]
  },
  {
   "cell_type": "code",
   "execution_count": 136,
   "metadata": {},
   "outputs": [],
   "source": [
    "with open('../experiments/configs/maml_config.yaml', 'r') as yaml_file:\n",
    "        spec_params = yaml.load(yaml_file, yaml.SafeLoader)"
   ]
  },
  {
   "cell_type": "code",
   "execution_count": 141,
   "metadata": {},
   "outputs": [
    {
     "data": {
      "text/plain": [
       "{'experiment_name': 'vanilla',\n",
       " 'priority_sample': True,\n",
       " 'priority_queue': {'sample_type': 'epsilon_greedy',\n",
       "  'epsilon_decay_start': 10000000}}"
      ]
     },
     "execution_count": 141,
     "metadata": {},
     "output_type": "execute_result"
    }
   ],
   "source": [
    "spec_params"
   ]
  },
  {
   "cell_type": "code",
   "execution_count": 138,
   "metadata": {},
   "outputs": [],
   "source": [
    "params = {**base_params, **spec_params}"
   ]
  },
  {
   "cell_type": "code",
   "execution_count": 139,
   "metadata": {},
   "outputs": [
    {
     "data": {
      "text/plain": [
       "{'experiment_name': 'vanilla',\n",
       " 'seed': 0,\n",
       " 'use_gpu': False,\n",
       " 'resume': {'model': None, 'priority_queue': None, 'queue_counts': None},\n",
       " 'task_type': 'sin',\n",
       " 'training_iterations': 10000000,\n",
       " 'task_batch_size': 25,\n",
       " 'meta_lr': 0.01,\n",
       " 'inner_update_k': 10,\n",
       " 'inner_update_lr': 0.01,\n",
       " 'num_inner_updates': 1,\n",
       " 'validation_num_inner_updates': 5,\n",
       " 'validation_k': 10,\n",
       " 'validation_task_batch_size': 10,\n",
       " 'validation_frequency': 1000,\n",
       " 'visualisation_frequency': 10000,\n",
       " 'x_dim': 1,\n",
       " 'input_dimension': 1,\n",
       " 'network_layers': [40, 40],\n",
       " 'output_dimension': 1,\n",
       " 'fixed_validation': True,\n",
       " 'priority_sample': True,\n",
       " 'sin': {'domain_bounds': [-5, 5],\n",
       "  'amplitude_bounds': [0.1, 0.5],\n",
       "  'phase_bounds': [0, 180],\n",
       "  'fixed_val_blocks': [0.05, 5]},\n",
       " 'priority_queue': {'sample_type': 'epsilon_greedy',\n",
       "  'epsilon_decay_start': 10000000}}"
      ]
     },
     "execution_count": 139,
     "metadata": {},
     "output_type": "execute_result"
    }
   ],
   "source": [
    "params"
   ]
  },
  {
   "cell_type": "code",
   "execution_count": 149,
   "metadata": {},
   "outputs": [
    {
     "data": {
      "text/plain": [
       "{'experiment_name': None,\n",
       " 'seed': 0,\n",
       " 'use_gpu': False,\n",
       " 'resume': {'model': None, 'priority_queue': None, 'queue_counts': None},\n",
       " 'task_type': 'sin',\n",
       " 'training_iterations': 10000000,\n",
       " 'task_batch_size': 25,\n",
       " 'meta_lr': 0.01,\n",
       " 'inner_update_k': 10,\n",
       " 'inner_update_lr': 0.01,\n",
       " 'num_inner_updates': 1,\n",
       " 'validation_num_inner_updates': 5,\n",
       " 'validation_k': 10,\n",
       " 'validation_task_batch_size': 10,\n",
       " 'validation_frequency': 1000,\n",
       " 'visualisation_frequency': 10000,\n",
       " 'x_dim': 1,\n",
       " 'input_dimension': 1,\n",
       " 'network_layers': [40, 40],\n",
       " 'output_dimension': 1,\n",
       " 'fixed_validation': True,\n",
       " 'priority_sample': None,\n",
       " 'sin': {'domain_bounds': [-5, 5],\n",
       "  'amplitude_bounds': [0.1, 0.5],\n",
       "  'phase_bounds': [0, 180],\n",
       "  'fixed_val_blocks': [0.05, 5]},\n",
       " 'priority_queue': {'sample_type': None,\n",
       "  'epsilon_start': 1.0,\n",
       "  'epsilon_final': 0.1,\n",
       "  'epsilon_decay_start': None,\n",
       "  'epsilon_decay_rate': 1e-07,\n",
       "  'block_sizes': [0.05, 5],\n",
       "  'param_ranges': [[0.1, 0.5], [0, 180]],\n",
       "  'burn_in': None,\n",
       "  'initial_value': None}}"
      ]
     },
     "execution_count": 149,
     "metadata": {},
     "output_type": "execute_result"
    }
   ],
   "source": [
    "base_params"
   ]
  },
  {
   "cell_type": "code",
   "execution_count": 150,
   "metadata": {},
   "outputs": [
    {
     "data": {
      "text/plain": [
       "{'experiment_name': 'vanilla',\n",
       " 'priority_sample': True,\n",
       " 'priority_queue': {'sample_type': 'epsilon_greedy',\n",
       "  'epsilon_decay_start': 10000000}}"
      ]
     },
     "execution_count": 150,
     "metadata": {},
     "output_type": "execute_result"
    }
   ],
   "source": [
    "spec_params"
   ]
  },
  {
   "cell_type": "code",
   "execution_count": 187,
   "metadata": {},
   "outputs": [],
   "source": [
    "def recurse(previous_keys, dictionary):\n",
    "    keys = dictionary.keys()\n",
    "    for key in keys:\n",
    "        if type(dictionary[key]) == dict:\n",
    "            recurse(previous_keys + [key], dictionary[key])\n",
    "        else:\n",
    "            for key in previous_keys + [key]:\n",
    "                value.get(spec_params)\n",
    "            \n",
    "            kv.append(previous_keys + [key])"
   ]
  },
  {
   "cell_type": "code",
   "execution_count": 188,
   "metadata": {},
   "outputs": [],
   "source": [
    "kv = []"
   ]
  },
  {
   "cell_type": "code",
   "execution_count": 189,
   "metadata": {},
   "outputs": [],
   "source": [
    "recurse([], spec_params)"
   ]
  },
  {
   "cell_type": "code",
   "execution_count": 190,
   "metadata": {},
   "outputs": [
    {
     "data": {
      "text/plain": [
       "[['experiment_name'],\n",
       " ['priority_sample'],\n",
       " ['priority_queue', 'sample_type'],\n",
       " ['priority_queue', 'epsilon_decay_start']]"
      ]
     },
     "execution_count": 190,
     "metadata": {},
     "output_type": "execute_result"
    }
   ],
   "source": [
    "kv"
   ]
  },
  {
   "cell_type": "code",
   "execution_count": 166,
   "metadata": {},
   "outputs": [
    {
     "data": {
      "text/plain": [
       "{'experiment_name': 'vanilla',\n",
       " 'priority_sample': True,\n",
       " 'priority_queue': {'sample_type': 'epsilon_greedy',\n",
       "  'epsilon_decay_start': 10000000}}"
      ]
     },
     "execution_count": 166,
     "metadata": {},
     "output_type": "execute_result"
    }
   ],
   "source": [
    "spec_params"
   ]
  },
  {
   "cell_type": "code",
   "execution_count": 193,
   "metadata": {},
   "outputs": [],
   "source": [
    "value = spec_params\n",
    "for prop in kv[2]:\n",
    "    value = value.get(prop)    "
   ]
  },
  {
   "cell_type": "code",
   "execution_count": 194,
   "metadata": {},
   "outputs": [
    {
     "data": {
      "text/plain": [
       "'epsilon_greedy'"
      ]
     },
     "execution_count": 194,
     "metadata": {},
     "output_type": "execute_result"
    }
   ],
   "source": [
    "value"
   ]
  },
  {
   "cell_type": "code",
   "execution_count": 191,
   "metadata": {},
   "outputs": [],
   "source": [
    "l = [['priority_queue'], ['sample_type']]"
   ]
  },
  {
   "cell_type": "code",
   "execution_count": null,
   "metadata": {},
   "outputs": [],
   "source": []
  },
  {
   "cell_type": "code",
   "execution_count": 195,
   "metadata": {},
   "outputs": [],
   "source": [
    "import collections\n",
    "import six\n",
    "\n",
    "# python 3.8+ compatibility\n",
    "try:\n",
    "    collectionsAbc = collections.abc\n",
    "except:\n",
    "    collectionsAbc = collections\n",
    "\n",
    "def update(d, u):\n",
    "    for k, v in six.iteritems(u):\n",
    "        dv = d.get(k, {})\n",
    "        if not isinstance(dv, collectionsAbc.Mapping):\n",
    "            d[k] = v\n",
    "        elif isinstance(v, collectionsAbc.Mapping):\n",
    "            d[k] = update(dv, v)\n",
    "        else:\n",
    "            d[k] = v\n",
    "    return d\n",
    "\n",
    "def update_dict(original_dictionary, update_dictionary):\n",
    "    for key, value in six.iteritems(update_dictionary):\n",
    "        sub_dict = self._config.get(key, {})\n",
    "        if not isinstance(sub_dict, collections.Mapping): # no more nesting\n",
    "            self._config[key] = value\n",
    "        elif isinstance(value, collections.Mapping):\n",
    "            self._config[key] = update_dict(sub_dict, value) # more nesting, recurse\n",
    "        else:\n",
    "            self._config[key] = value\n",
    "\n",
    "    return original_dictionary"
   ]
  },
  {
   "cell_type": "code",
   "execution_count": 200,
   "metadata": {},
   "outputs": [
    {
     "data": {
      "text/plain": [
       "{'experiment_name': 'vanilla',\n",
       " 'seed': 0,\n",
       " 'use_gpu': False,\n",
       " 'resume': {'model': None, 'priority_queue': None, 'queue_counts': None},\n",
       " 'task_type': 'sin',\n",
       " 'training_iterations': 10000000,\n",
       " 'task_batch_size': 25,\n",
       " 'meta_lr': 0.01,\n",
       " 'inner_update_k': 10,\n",
       " 'inner_update_lr': 0.01,\n",
       " 'num_inner_updates': 1,\n",
       " 'validation_num_inner_updates': 5,\n",
       " 'validation_k': 10,\n",
       " 'validation_task_batch_size': 10,\n",
       " 'validation_frequency': 1000,\n",
       " 'visualisation_frequency': 10000,\n",
       " 'x_dim': 1,\n",
       " 'input_dimension': 1,\n",
       " 'network_layers': [40, 40],\n",
       " 'output_dimension': 1,\n",
       " 'fixed_validation': True,\n",
       " 'priority_sample': True,\n",
       " 'sin': {'domain_bounds': [-5, 5],\n",
       "  'amplitude_bounds': [0.1, 0.5],\n",
       "  'phase_bounds': [0, 180],\n",
       "  'fixed_val_blocks': [0.05, 5]},\n",
       " 'priority_queue': {'sample_type': 'epsilon_greedy',\n",
       "  'epsilon_start': 1.0,\n",
       "  'epsilon_final': 0.1,\n",
       "  'epsilon_decay_start': 10000000,\n",
       "  'epsilon_decay_rate': 1e-07,\n",
       "  'block_sizes': [0.05, 5],\n",
       "  'param_ranges': [[0.1, 0.5], [0, 180]],\n",
       "  'burn_in': None,\n",
       "  'initial_value': None}}"
      ]
     },
     "execution_count": 200,
     "metadata": {},
     "output_type": "execute_result"
    }
   ],
   "source": [
    "base_params"
   ]
  },
  {
   "cell_type": "code",
   "execution_count": 201,
   "metadata": {},
   "outputs": [
    {
     "data": {
      "text/plain": [
       "{'experiment_name': 'vanilla',\n",
       " 'priority_sample': True,\n",
       " 'priority_queue': {'sample_type': 'epsilon_greedy',\n",
       "  'epsilon_decay_start': 10000000}}"
      ]
     },
     "execution_count": 201,
     "metadata": {},
     "output_type": "execute_result"
    }
   ],
   "source": [
    "spec_params"
   ]
  },
  {
   "cell_type": "code",
   "execution_count": 202,
   "metadata": {},
   "outputs": [],
   "source": [
    "params = update(base_params, spec_params)"
   ]
  },
  {
   "cell_type": "code",
   "execution_count": 203,
   "metadata": {},
   "outputs": [
    {
     "data": {
      "text/plain": [
       "{'experiment_name': 'vanilla',\n",
       " 'seed': 0,\n",
       " 'use_gpu': False,\n",
       " 'resume': {'model': None, 'priority_queue': None, 'queue_counts': None},\n",
       " 'task_type': 'sin',\n",
       " 'training_iterations': 10000000,\n",
       " 'task_batch_size': 25,\n",
       " 'meta_lr': 0.01,\n",
       " 'inner_update_k': 10,\n",
       " 'inner_update_lr': 0.01,\n",
       " 'num_inner_updates': 1,\n",
       " 'validation_num_inner_updates': 5,\n",
       " 'validation_k': 10,\n",
       " 'validation_task_batch_size': 10,\n",
       " 'validation_frequency': 1000,\n",
       " 'visualisation_frequency': 10000,\n",
       " 'x_dim': 1,\n",
       " 'input_dimension': 1,\n",
       " 'network_layers': [40, 40],\n",
       " 'output_dimension': 1,\n",
       " 'fixed_validation': True,\n",
       " 'priority_sample': True,\n",
       " 'sin': {'domain_bounds': [-5, 5],\n",
       "  'amplitude_bounds': [0.1, 0.5],\n",
       "  'phase_bounds': [0, 180],\n",
       "  'fixed_val_blocks': [0.05, 5]},\n",
       " 'priority_queue': {'sample_type': 'epsilon_greedy',\n",
       "  'epsilon_start': 1.0,\n",
       "  'epsilon_final': 0.1,\n",
       "  'epsilon_decay_start': 10000000,\n",
       "  'epsilon_decay_rate': 1e-07,\n",
       "  'block_sizes': [0.05, 5],\n",
       "  'param_ranges': [[0.1, 0.5], [0, 180]],\n",
       "  'burn_in': None,\n",
       "  'initial_value': None}}"
      ]
     },
     "execution_count": 203,
     "metadata": {},
     "output_type": "execute_result"
    }
   ],
   "source": [
    "params"
   ]
  },
  {
   "cell_type": "code",
   "execution_count": 1,
   "metadata": {},
   "outputs": [],
   "source": [
    "import numpy as np"
   ]
  },
  {
   "cell_type": "code",
   "execution_count": 13,
   "metadata": {},
   "outputs": [],
   "source": [
    "np_token = np.array([13, 20, 12, 15, 24])"
   ]
  },
  {
   "cell_type": "code",
   "execution_count": 14,
   "metadata": {},
   "outputs": [],
   "source": [
    "b = np.zeros((5, 26))"
   ]
  },
  {
   "cell_type": "code",
   "execution_count": 15,
   "metadata": {},
   "outputs": [],
   "source": [
    "b[np.arange(5), np_token] = 1"
   ]
  },
  {
   "cell_type": "code",
   "execution_count": 16,
   "metadata": {},
   "outputs": [
    {
     "data": {
      "text/plain": [
       "array([[0., 0., 0., 0., 0., 0., 0., 0., 0., 0., 0., 0., 0., 1., 0., 0.,\n",
       "        0., 0., 0., 0., 0., 0., 0., 0., 0., 0.],\n",
       "       [0., 0., 0., 0., 0., 0., 0., 0., 0., 0., 0., 0., 0., 0., 0., 0.,\n",
       "        0., 0., 0., 0., 1., 0., 0., 0., 0., 0.],\n",
       "       [0., 0., 0., 0., 0., 0., 0., 0., 0., 0., 0., 0., 1., 0., 0., 0.,\n",
       "        0., 0., 0., 0., 0., 0., 0., 0., 0., 0.],\n",
       "       [0., 0., 0., 0., 0., 0., 0., 0., 0., 0., 0., 0., 0., 0., 0., 1.,\n",
       "        0., 0., 0., 0., 0., 0., 0., 0., 0., 0.],\n",
       "       [0., 0., 0., 0., 0., 0., 0., 0., 0., 0., 0., 0., 0., 0., 0., 0.,\n",
       "        0., 0., 0., 0., 0., 0., 0., 0., 1., 0.]])"
      ]
     },
     "execution_count": 16,
     "metadata": {},
     "output_type": "execute_result"
    }
   ],
   "source": [
    "b"
   ]
  },
  {
   "cell_type": "code",
   "execution_count": 17,
   "metadata": {},
   "outputs": [],
   "source": [
    "import matplotlib.pyplot as plt"
   ]
  },
  {
   "cell_type": "code",
   "execution_count": 19,
   "metadata": {},
   "outputs": [
    {
     "name": "stderr",
     "output_type": "stream",
     "text": [
      "/Users/sebastianlee/Envs/meta/lib/python3.7/site-packages/ipykernel_launcher.py:3: UserWarning: Matplotlib is currently using module://ipykernel.pylab.backend_inline, which is a non-GUI backend, so cannot show the figure.\n",
      "  This is separate from the ipykernel package so we can avoid doing imports until\n"
     ]
    },
    {
     "data": {
      "image/png": "[encoded data removed]",
      "text/plain": [
       "<Figure size 432x288 with 1 Axes>"
      ]
     },
     "metadata": {
      "needs_background": "light"
     },
     "output_type": "display_data"
    }
   ],
   "source": [
    "fig = plt.figure()\n",
    "plt.imshow(b, cmap='gray')\n",
    "fig.show()\n",
    "fig.savefig('numpy_tensor.png')"
   ]
  },
  {
   "cell_type": "code",
   "execution_count": 28,
   "metadata": {},
   "outputs": [],
   "source": [
    "import numpy as np\n",
    "import copy\n",
    "import matplotlib.pyplot as plt"
   ]
  },
  {
   "cell_type": "code",
   "execution_count": 33,
   "metadata": {},
   "outputs": [],
   "source": [
    "for _ in range(1):\n",
    "    tens = []\n",
    "    a = np.arange(10)\n",
    "    np.random.shuffle(a)\n",
    "    tens.append(copy.deepcopy(a))\n",
    "    fig = plt.figure()\n",
    "    plt.imshow(np.array(tens), cmap='gray')\n",
    "    fig.show()\n",
    "    fig.savefig('test_tensor.png', dpi=500)\n",
    "    "
   ]
  },
  {
   "cell_type": "code",
   "execution_count": 34,
   "metadata": {},
   "outputs": [
    {
     "name": "stderr",
     "output_type": "stream",
     "text": [
      "/Users/sebastianlee/Envs/meta/lib/python3.7/site-packages/ipykernel_launcher.py:3: UserWarning: Matplotlib is currently using module://ipykernel.pylab.backend_inline, which is a non-GUI backend, so cannot show the figure.\n",
      "  This is separate from the ipykernel package so we can avoid doing imports until\n"
     ]
    },
    {
     "data": {
      "image/png": "[encoded data removed]",
      "text/plain": [
       "<Figure size 432x288 with 1 Axes>"
      ]
     },
     "metadata": {
      "needs_background": "light"
     },
     "output_type": "display_data"
    }
   ],
   "source": []
  },
  {
   "cell_type": "code",
   "execution_count": null,
   "metadata": {},
   "outputs": [],
   "source": []
  }
 ],
 "metadata": {
  "kernelspec": {
   "display_name": "Python 3",
   "language": "python",
   "name": "python3"
  },
  "language_info": {
   "codemirror_mode": {
    "name": "ipython",
    "version": 3
   },
   "file_extension": ".py",
   "mimetype": "text/x-python",
   "name": "python",
   "nbconvert_exporter": "python",
   "pygments_lexer": "ipython3",
   "version": "3.7.0"
  }
 },
 "nbformat": 4,
 "nbformat_minor": 4
}
