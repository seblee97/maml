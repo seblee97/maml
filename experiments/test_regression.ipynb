{
 "cells": [
  {
   "cell_type": "markdown",
   "metadata": {},
   "source": [
    "## Imports"
   ]
  },
  {
   "cell_type": "code",
   "execution_count": 1,
   "metadata": {},
   "outputs": [],
   "source": [
    "from context import utils, maml"
   ]
  },
  {
   "cell_type": "code",
   "execution_count": 75,
   "metadata": {},
   "outputs": [],
   "source": [
    "import yaml\n",
    "from torch import optim\n",
    "import matplotlib.pyplot as plt\n",
    "import numpy as np\n",
    "import torch"
   ]
  },
  {
   "cell_type": "markdown",
   "metadata": {},
   "source": [
    "## Parameters"
   ]
  },
  {
   "cell_type": "code",
   "execution_count": 3,
   "metadata": {},
   "outputs": [],
   "source": [
    "with open('configs/maml_config.yaml', 'r') as yaml_file:\n",
    "        spec_params = yaml.load(yaml_file, yaml.SafeLoader)\n",
    "        \n",
    "with open('configs/test_base_config.yaml', 'r') as base_yaml_file:\n",
    "        base_params = yaml.load(base_yaml_file, yaml.SafeLoader)"
   ]
  },
  {
   "cell_type": "code",
   "execution_count": 4,
   "metadata": {},
   "outputs": [],
   "source": [
    "maml_parameters = utils.parameters.MAMLParameters(base_params)"
   ]
  },
  {
   "cell_type": "code",
   "execution_count": 5,
   "metadata": {},
   "outputs": [],
   "source": [
    "maml_parameters.update(spec_params)\n",
    "maml_parameters.set_property('device', 'cpu')"
   ]
  },
  {
   "cell_type": "code",
   "execution_count": 6,
   "metadata": {},
   "outputs": [
    {
     "name": "stdout",
     "output_type": "stream",
     "text": [
      "{'experiment_name': 'vanilla', 'seed': 0, 'use_gpu': False, 'resume': {'model': None, 'priority_queue': None, 'queue_counts': None}, 'task_type': 'sin', 'training_iterations': 10000000, 'task_batch_size': 25, 'meta_lr': 0.01, 'inner_update_k': 10, 'inner_update_lr': 0.01, 'num_inner_updates': 1, 'validation_num_inner_updates': 100, 'validation_k': 100, 'test_k': 10, 'validation_task_batch_size': 10, 'validation_frequency': 10, 'visualisation_frequency': 10, 'x_dim': 1, 'input_dimension': 1, 'network_layers': [40, 40], 'output_dimension': 1, 'fixed_validation': False, 'priority_sample': True, 'sin': {'domain_bounds': [-5, 5], 'amplitude_bounds': [0.1, 0.5], 'phase_bounds': [0, 180], 'fixed_val_blocks': [0.05, 5]}, 'priority_queue': {'sample_type': 'epsilon_greedy', 'epsilon_start': 1.0, 'epsilon_final': 0.1, 'epsilon_decay_start': 10000000, 'epsilon_decay_rate': 1e-07, 'block_sizes': [0.05, 5], 'param_ranges': [[0.1, 0.5], [0, 180]], 'burn_in': None, 'initial_value': None}, 'device': 'cpu'}\n"
     ]
    }
   ],
   "source": [
    "maml_parameters.show_all_parameters()"
   ]
  },
  {
   "cell_type": "markdown",
   "metadata": {},
   "source": [
    "## Init Sine Network"
   ]
  },
  {
   "cell_type": "code",
   "execution_count": 112,
   "metadata": {},
   "outputs": [],
   "source": [
    "SN = maml.sinusoid._SinusoidalNetwork(maml_parameters)"
   ]
  },
  {
   "cell_type": "markdown",
   "metadata": {},
   "source": [
    "## Init Sine MAML Class (For batch generation only)"
   ]
  },
  {
   "cell_type": "code",
   "execution_count": 113,
   "metadata": {},
   "outputs": [],
   "source": [
    "SM = maml.sinusoid.SineMAML(maml_parameters, 'cpu')"
   ]
  },
  {
   "cell_type": "code",
   "execution_count": 114,
   "metadata": {},
   "outputs": [],
   "source": [
    "generate_batch = SM._generate_batch"
   ]
  },
  {
   "cell_type": "code",
   "execution_count": 115,
   "metadata": {},
   "outputs": [],
   "source": [
    "sample_task = SM._sample_task"
   ]
  },
  {
   "cell_type": "code",
   "execution_count": 116,
   "metadata": {},
   "outputs": [],
   "source": [
    "compute_loss = SM._compute_loss"
   ]
  },
  {
   "cell_type": "markdown",
   "metadata": {},
   "source": [
    "## Train network"
   ]
  },
  {
   "cell_type": "code",
   "execution_count": 117,
   "metadata": {},
   "outputs": [],
   "source": [
    "num_iterations = 1000\n",
    "lr = 0.01\n",
    "k = 100"
   ]
  },
  {
   "cell_type": "code",
   "execution_count": 118,
   "metadata": {},
   "outputs": [],
   "source": [
    "def train(k, num, network):\n",
    "    \n",
    "    optimiser = optim.Adam(network.parameters())\n",
    "\n",
    "    losses = []\n",
    "\n",
    "    task = sample_task()\n",
    "    x, y = generate_batch(task, batch_size=k)\n",
    "\n",
    "    for i in range(num):\n",
    "\n",
    "        pred_y = network(x)\n",
    "\n",
    "        loss = compute_loss(pred_y, y)\n",
    "\n",
    "        losses.append(float(loss.detach()))\n",
    "\n",
    "    #     print(i, loss)\n",
    "\n",
    "        optimiser.zero_grad()\n",
    "\n",
    "        loss.backward()\n",
    "\n",
    "        optimiser.step()\n",
    "    \n",
    "    return task, x, y, losses, network"
   ]
  },
  {
   "cell_type": "markdown",
   "metadata": {},
   "source": [
    "## Plot losses"
   ]
  },
  {
   "cell_type": "code",
   "execution_count": 99,
   "metadata": {},
   "outputs": [],
   "source": [
    "def plot_losses(losses):\n",
    "    fig = plt.figure()\n",
    "    plt.plot(range(len(losses)), losses)\n",
    "    plt.xlabel(\"step\")\n",
    "    plt.ylabel(\"loss\")\n",
    "    fig.show()"
   ]
  },
  {
   "cell_type": "code",
   "execution_count": 100,
   "metadata": {},
   "outputs": [],
   "source": [
    "test = train()"
   ]
  },
  {
   "cell_type": "markdown",
   "metadata": {},
   "source": [
    "## Show Qualitative Regression"
   ]
  },
  {
   "cell_type": "code",
   "execution_count": 101,
   "metadata": {},
   "outputs": [],
   "source": [
    "def show_regression(task, x, y, network):\n",
    "    x_plot = np.linspace(-5, 5, 100)\n",
    "    y_plot = [task(xi) for xi in x_plot]\n",
    "    \n",
    "    plot_x_tensor = torch.tensor([[x] for x in x_plot])\n",
    "    \n",
    "    fig = plt.figure()\n",
    "    plt.plot(x_plot, y_plot)\n",
    "    plt.scatter(x, y)\n",
    "    \n",
    "    pred_y = network(plot_x_tensor)\n",
    "    \n",
    "    plt.plot(x_plot, pred_y.cpu().detach().numpy())\n",
    "    \n",
    "    fig.show()"
   ]
  },
  {
   "cell_type": "code",
   "execution_count": 102,
   "metadata": {},
   "outputs": [
    {
     "name": "stderr",
     "output_type": "stream",
     "text": [
      "/Users/sebastianlee/Dropbox/Documents/Work/Hack/Environments/meta/lib/python3.7/site-packages/ipykernel_launcher.py:15: UserWarning: Matplotlib is currently using module://ipykernel.pylab.backend_inline, which is a non-GUI backend, so cannot show the figure.\n",
      "  from ipykernel import kernelapp as app\n"
     ]
    },
    {
     "data": {
      "image/png": "[encoded data removed]",
      "text/plain": [
       "<Figure size 432x288 with 1 Axes>"
      ]
     },
     "metadata": {
      "needs_background": "light"
     },
     "output_type": "display_data"
    }
   ],
   "source": [
    "show_regression(test[0], test[1], test[2], SN)"
   ]
  },
  {
   "cell_type": "code",
   "execution_count": 119,
   "metadata": {},
   "outputs": [],
   "source": [
    "def whole_ting(n, k):\n",
    "    SN = maml.sinusoid._SinusoidalNetwork(maml_parameters)\n",
    "    test = train(k=k, num=n, network=SN)\n",
    "    show_regression(test[0], test[1], test[2], test[4])"
   ]
  },
  {
   "cell_type": "code",
   "execution_count": 120,
   "metadata": {},
   "outputs": [
    {
     "name": "stderr",
     "output_type": "stream",
     "text": [
      "/Users/sebastianlee/Dropbox/Documents/Work/Hack/Environments/meta/lib/python3.7/site-packages/ipykernel_launcher.py:15: UserWarning: Matplotlib is currently using module://ipykernel.pylab.backend_inline, which is a non-GUI backend, so cannot show the figure.\n",
      "  from ipykernel import kernelapp as app\n"
     ]
    },
    {
     "data": {
      "image/png": "[encoded data removed]",
      "text/plain": [
       "<Figure size 432x288 with 1 Axes>"
      ]
     },
     "metadata": {
      "needs_background": "light"
     },
     "output_type": "display_data"
    }
   ],
   "source": [
    "whole_ting(100, 10)"
   ]
  },
  {
   "cell_type": "code",
   "execution_count": 122,
   "metadata": {},
   "outputs": [
    {
     "name": "stderr",
     "output_type": "stream",
     "text": [
      "/Users/sebastianlee/Dropbox/Documents/Work/Hack/Environments/meta/lib/python3.7/site-packages/ipykernel_launcher.py:15: UserWarning: Matplotlib is currently using module://ipykernel.pylab.backend_inline, which is a non-GUI backend, so cannot show the figure.\n",
      "  from ipykernel import kernelapp as app\n"
     ]
    },
    {
     "data": {
      "image/png": "[encoded data removed]",
      "text/plain": [
       "<Figure size 432x288 with 1 Axes>"
      ]
     },
     "metadata": {
      "needs_background": "light"
     },
     "output_type": "display_data"
    }
   ],
   "source": [
    "whole_ting(1000, 200)"
   ]
  },
  {
   "cell_type": "code",
   "execution_count": 123,
   "metadata": {},
   "outputs": [],
   "source": [
    "a = [5,6,2,3,6]"
   ]
  },
  {
   "cell_type": "code",
   "execution_count": 124,
   "metadata": {},
   "outputs": [
    {
     "data": {
      "text/plain": [
       "[5, 6, 2, 3]"
      ]
     },
     "execution_count": 124,
     "metadata": {},
     "output_type": "execute_result"
    }
   ],
   "source": [
    "a[:-1]"
   ]
  },
  {
   "cell_type": "code",
   "execution_count": null,
   "metadata": {},
   "outputs": [],
   "source": []
  }
 ],
 "metadata": {
  "kernelspec": {
   "display_name": "Python 3",
   "language": "python",
   "name": "python3"
  },
  "language_info": {
   "codemirror_mode": {
    "name": "ipython",
    "version": 3
   },
   "file_extension": ".py",
   "mimetype": "text/x-python",
   "name": "python",
   "nbconvert_exporter": "python",
   "pygments_lexer": "ipython3",
   "version": "3.7.0"
  }
 },
 "nbformat": 4,
 "nbformat_minor": 4
}
